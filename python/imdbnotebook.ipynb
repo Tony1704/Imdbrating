{
 "cells": [
  {
   "cell_type": "markdown",
   "source": [
    "# IMDb Rating Predicition\n",
    "In diesem Projekt soll herausgefunden werden, ob anhand von verschiedenen Daten von einem Film die durchschnittliche Bewertung von einem Film mit Hilfe von Machine Learning vorhersagen kann.\n",
    "Dazu wird die IMDB Datenbank verwendet, die in Teilen frei zugänglich ist. Dabei waren die Hauptherausforderungen die Auswahl der Daten und die Logik hinter diesem Vorhaben.\n",
    "\n",
    "## Die IMDb Datenbank\n",
    "Ein ausgewählter Teil der IMDb Datenbank ist im Internet frei zugänglich und kann beispielsweise auf Kaggle gefunden werden.\n",
    "Es handelt sich dabei um eine relationale Datenbank, welche mehrere Tabellen enthält.\n"
   ],
   "metadata": {
    "collapsed": false
   }
  },
  {
   "cell_type": "code",
   "execution_count": 1,
   "outputs": [
    {
     "name": "stdout",
     "output_type": "stream",
     "text": [
      "Spalten der Tabelle most_rated_movies:\n",
      "primaryTitle: VAR_STRING \n",
      "numVotes: LONG NUMERIC\n",
      "\n",
      "\n",
      "Spalten der Tabelle person:\n",
      "nconst: STRING NOT_NULL | PRIMARY_KEY | NO_DEFAULT\n",
      "primaryName: VAR_STRING \n",
      "birthYear: LONG NUMERIC\n",
      "deathYear: LONG NUMERIC\n",
      "primaryProfession: VAR_STRING \n",
      "knownForTitles: VAR_STRING \n",
      "\n",
      "\n",
      "Spalten der Tabelle titleakas:\n",
      "titleId: STRING NOT_NULL | NO_DEFAULT\n",
      "ordering: LONG NOT_NULL | NUMERIC\n",
      "title: VAR_STRING \n",
      "region: STRING \n",
      "language: STRING \n",
      "types: VAR_STRING \n",
      "attributes: VAR_STRING \n",
      "isOriginalTitle: LONG NUMERIC\n",
      "\n",
      "\n",
      "Spalten der Tabelle titlebasic:\n",
      "tconst: STRING NOT_NULL | PRIMARY_KEY | NO_DEFAULT\n",
      "titleType: VAR_STRING \n",
      "primaryTitle: VAR_STRING \n",
      "originalTitle: VAR_STRING \n",
      "isAdult: LONG NUMERIC\n",
      "startYear: LONG NUMERIC\n",
      "endYear: LONG NUMERIC\n",
      "runtimeMinutes: LONG NUMERIC\n",
      "genres: VAR_STRING \n",
      "\n",
      "\n",
      "Spalten der Tabelle titleprincipals:\n",
      "tconst: STRING NOT_NULL | PRIMARY_KEY | NO_DEFAULT\n",
      "ordering: LONG NUMERIC\n",
      "nconst: STRING NOT_NULL | PRIMARY_KEY | NO_DEFAULT\n",
      "category: VAR_STRING \n",
      "job: VAR_STRING \n",
      "characters: VAR_STRING \n",
      "\n",
      "\n",
      "Spalten der Tabelle titleratings:\n",
      "tconst: STRING NOT_NULL | PRIMARY_KEY | NO_DEFAULT\n",
      "averageRating: DOUBLE NUMERIC\n",
      "numVotes: LONG NUMERIC\n",
      "\n",
      "\n",
      "Spalten der Tabelle top_rated_movies:\n",
      "primaryTitle: VAR_STRING \n",
      "startYear: LONG NUMERIC\n",
      "averageRating: DOUBLE NUMERIC\n",
      "numVotes: LONG NUMERIC\n",
      "\n",
      "\n",
      "Spalten der Tabelle valid_movies:\n",
      "tconst: STRING NOT_NULL | PRIMARY_KEY | NO_DEFAULT\n",
      "primaryTitle: VAR_STRING \n",
      "startYear: LONG NUMERIC\n",
      "runtimeMinutes: LONG NUMERIC\n",
      "genres: VAR_STRING \n",
      "averageRating: DOUBLE NUMERIC\n",
      "numVotes: LONG NUMERIC\n",
      "\n",
      "\n"
     ]
    }
   ],
   "source": [
    "import database_connector\n",
    "import main\n",
    "db = database_connector.DataBase()\n",
    "tables = db.show_tables()\n",
    "\n",
    "for table in tables:\n",
    "    field_info_text = db.get_table_field_info(table)\n",
    "\n",
    "    print(f\"Spalten der Tabelle {table}:\")\n",
    "    print(\"\\n\".join(field_info_text))\n",
    "    print(\"\\n\")\n"
   ],
   "metadata": {
    "collapsed": false,
    "pycharm": {
     "name": "#%%\n"
    }
   }
  },
  {
   "cell_type": "markdown",
   "source": [
    "Dabei sind die Daten nicht komplett sauber, viele Einträge sind fehlerhaft oder unvollständig.\n",
    "Deshalb ist es besonders wichtig, die Daten zu filtern und nur diese zu nehmen, die relevant sind."
   ],
   "metadata": {
    "collapsed": false
   }
  },
  {
   "cell_type": "code",
   "execution_count": 2,
   "outputs": [
    {
     "data": {
      "text/plain": "(5701079,)"
     },
     "execution_count": 2,
     "metadata": {},
     "output_type": "execute_result"
    }
   ],
   "source": [
    "db.sql(\"SELECT COUNT(*) FROM titlebasic\")[0]"
   ],
   "metadata": {
    "collapsed": false,
    "pycharm": {
     "name": "#%%\n"
    }
   }
  },
  {
   "cell_type": "markdown",
   "source": [
    "Die Tabelle Titlebasic beinhaltet alle Titel und ist wie zu sehen ist 5 Millionen einträge groß"
   ],
   "metadata": {
    "collapsed": false
   }
  },
  {
   "cell_type": "code",
   "execution_count": 3,
   "outputs": [
    {
     "data": {
      "text/plain": "(509332,)"
     },
     "execution_count": 3,
     "metadata": {},
     "output_type": "execute_result"
    }
   ],
   "source": [
    "db.sql(\"SELECT COUNT(*) FROM titlebasic WHERE titleType = 'Movie'\")[0]"
   ],
   "metadata": {
    "collapsed": false,
    "pycharm": {
     "name": "#%%\n"
    }
   }
  },
  {
   "cell_type": "markdown",
   "source": [
    "Davon sind eine halbe Millionen Filme"
   ],
   "metadata": {
    "collapsed": false
   }
  },
  {
   "cell_type": "code",
   "execution_count": 4,
   "outputs": [
    {
     "data": {
      "text/plain": "(237738,)"
     },
     "execution_count": 4,
     "metadata": {},
     "output_type": "execute_result"
    }
   ],
   "source": [
    "db.sql(\"SELECT COUNT(*) FROM titlebasic inner join titleratings on titleratings.tconst = titlebasic.tconst where titleType = 'Movie'\")[0]"
   ],
   "metadata": {
    "collapsed": false,
    "pycharm": {
     "name": "#%%\n"
    }
   }
  },
  {
   "cell_type": "markdown",
   "source": [
    "Davon haben etwa 200k überhaupt eine Bewertung\n"
   ],
   "metadata": {
    "collapsed": false,
    "pycharm": {
     "name": "#%% md\n"
    }
   }
  },
  {
   "cell_type": "code",
   "execution_count": 5,
   "outputs": [
    {
     "data": {
      "text/plain": "(3023,)"
     },
     "execution_count": 5,
     "metadata": {},
     "output_type": "execute_result"
    }
   ],
   "source": [
    "db.sql(\"SELECT COUNT(*) FROM titlebasic inner join titleratings on titleratings.tconst = titlebasic.tconst where titleType = 'Movie' AND titleratings.numVotes > 50000\")[0]\n"
   ],
   "metadata": {
    "collapsed": false,
    "pycharm": {
     "name": "#%%\n"
    }
   }
  },
  {
   "cell_type": "markdown",
   "source": [
    "Davon haben nur 3000 über 50000 Bewertungen, ein Wert bei welchem wir festgestellt haben, dass die Bewertungen eine ausreichende Aussagekraft besitzen.\n",
    "Das sind die Filme, die als \"Valid_Movies\" angesehen werden und in dieser view dargestellt werden."
   ],
   "metadata": {
    "collapsed": false
   }
  },
  {
   "cell_type": "code",
   "execution_count": 6,
   "outputs": [
    {
     "data": {
      "text/plain": "[('The Pancake Ghost', 2021, 0, 'Musical'),\n ('Mayday', 2020, 0, 'Drama'),\n ('Escape Room', 2019, 99, 'Action,Adventure,Horror'),\n ('Brightburn', 2019, 90, 'Drama,Horror,Mystery'),\n ('Godzilla: King of the Monsters', 2019, 132, 'Action,Adventure,Fantasy'),\n ('Avengers: Endgame', 2019, 181, 'Action,Adventure,Drama'),\n ('I Am Mother', 2019, 113, 'Drama,Horror,Sci-Fi'),\n ('Axegrinder 2', 2019, 80, 'Horror')]"
     },
     "execution_count": 6,
     "metadata": {},
     "output_type": "execute_result"
    }
   ],
   "source": [
    "db.sql(\"SELECT primaryTitle, startYear, runtimeMinutes, genres FROM imdb.valid_movies order by startYear DESC limit 8\")"
   ],
   "metadata": {
    "collapsed": false,
    "pycharm": {
     "name": "#%%\n"
    }
   }
  },
  {
   "cell_type": "markdown",
   "source": [
    "Dabei sieht die Liste der best bewertetsten Filme der Ansicht auf der IMDb Website ähnlich, es scheinen also ähnliche Filter angewendet worden zu sein."
   ],
   "metadata": {
    "collapsed": false
   }
  },
  {
   "cell_type": "code",
   "execution_count": 7,
   "outputs": [
    {
     "data": {
      "text/plain": "[('The Shawshank Redemption', 1994, 9.3, 2159745),\n ('The Godfather', 1972, 9.2, 1482225),\n ('The Godfather: Part II', 1974, 9.0, 1032110),\n ('The Dark Knight', 2008, 9.0, 2134602),\n ('The Mountain II', 2016, 9.0, 101817),\n ('12 Angry Men', 1957, 8.9, 617607),\n (\"Schindler's List\", 1993, 8.9, 1120297),\n ('Pulp Fiction', 1994, 8.9, 1695159),\n ('The Lord of the Rings: The Return of the King', 2003, 8.9, 1533632),\n ('The Good, the Bad and the Ugly', 1966, 8.8, 640941),\n ('Forrest Gump', 1994, 8.8, 1662609),\n ('The Lord of the Rings: The Fellowship of the Ring', 2001, 8.8, 1548920),\n ('Fight Club', 1999, 8.8, 1725444),\n ('Inception', 2010, 8.8, 1892958),\n ('Joker', 2019, 8.8, 466912),\n (\"One Flew Over the Cuckoo's Nest\", 1975, 8.7, 852798),\n ('Star Wars: Episode V - The Empire Strikes Back', 1980, 8.7, 1078754),\n ('Goodfellas', 1990, 8.7, 933687),\n ('The Matrix', 1999, 8.7, 1554345),\n ('The Lord of the Rings: The Two Towers', 2002, 8.7, 1387208),\n (\"It's a Wonderful Life\", 1946, 8.6, 366750),\n ('Seven Samurai', 1954, 8.6, 292241),\n ('Star Wars: Episode IV - A New Hope', 1977, 8.6, 1147264),\n ('The Silence of the Lambs', 1991, 8.6, 1169847),\n ('Se7en', 1995, 8.6, 1327441),\n ('Life Is Beautiful', 1997, 8.6, 570765),\n ('The Green Mile', 1999, 8.6, 1050158),\n ('Saving Private Ryan', 1998, 8.6, 1143793),\n ('Spirited Away', 2001, 8.6, 577038),\n ('City of God', 2002, 8.6, 659285),\n ('Interstellar', 2014, 8.6, 1348184),\n ('Senna', 2010, 8.6, 56850),\n ('Parasite', 2019, 8.6, 73962),\n ('City Lights', 1931, 8.5, 152730),\n ('Modern Times', 1936, 8.5, 197987),\n ('The Great Dictator', 1940, 8.5, 186657),\n ('Casablanca', 1942, 8.5, 487781),\n ('Psycho', 1960, 8.5, 555275),\n ('Once Upon a Time in the West', 1968, 8.5, 279260),\n ('Back to the Future', 1985, 8.5, 965539)]"
     },
     "execution_count": 7,
     "metadata": {},
     "output_type": "execute_result"
    }
   ],
   "source": [
    "db.get_top_rated_movies()"
   ],
   "metadata": {
    "collapsed": false,
    "pycharm": {
     "name": "#%%\n"
    }
   }
  },
  {
   "cell_type": "markdown",
   "source": [
    "## Auswahl der Daten\n",
    "Da wir nun die Auswahl der Datensätze getroffen haben, geht es nun darum, Attribute auszuwählen, die für das neurale Netzwerk genutzt werden können"
   ],
   "metadata": {
    "collapsed": false
   }
  },
  {
   "cell_type": "code",
   "execution_count": 8,
   "outputs": [
    {
     "name": "stdout",
     "output_type": "stream",
     "text": [
      "ID\t\ttt1375666\n",
      "Titel\t\tInception\n",
      "Jahr\t\t2010\n",
      "Laufzeit\t148\n",
      "Genres\t\t['Action', 'Adventure', 'Sci-Fi']\n",
      "Average Rating\t8.8\n",
      "Number of Votes\t1892958\n"
     ]
    }
   ],
   "source": [
    "movies = main.loadDataBase()\n",
    "inception = movies[2213]\n",
    "print(f\"ID\\t\\t{inception.id}\\nTitel\\t\\t{inception.title}\\nJahr\\t\\t{inception.startYear}\\nLaufzeit\\t{inception.runtimeMinutes}\\nGenres\\t\\t{inception.genres}\\nAverage Rating\\t{inception.averageRating}\\nNumber of Votes\\t{inception.numVotes}\")"
   ],
   "metadata": {
    "collapsed": false,
    "pycharm": {
     "name": "#%%\n"
    }
   }
  },
  {
   "cell_type": "markdown",
   "source": [
    "Diese Daten bestimmen das Movie Objekt. Die meisten dieser Daten werden auch dem neuralen Netzwerk mitgegeben, einige dienen nur zur Information. Einem Movie gehören bis zu 10 \"Mitarbeitern\" an. Dazu zählen Schauspieler, Regisseure, Producer, Komponisten, etc."
   ],
   "metadata": {
    "collapsed": false
   }
  },
  {
   "cell_type": "code",
   "execution_count": 9,
   "outputs": [
    {
     "name": "stdout",
     "output_type": "stream",
     "text": [
      "Name                         Nummer              Rolle  \n",
      "Leonardo DiCaprio            1                   actor\n",
      "Joseph Gordon-Levitt         2                   actor\n",
      "Ellen Page                   3                 actress\n",
      "Ken Watanabe                 4                   actor\n",
      "Christopher Nolan            5                director\n",
      "Emma Thomas                  6                producer\n",
      "Hans Zimmer                  7                composer\n",
      "Wally Pfister                8         cinematographer\n",
      "Lee Smith                    9                  editor\n",
      "Guy Hendrix Dyas             10    production_designer\n"
     ]
    }
   ],
   "source": [
    "crew = inception.actors\n",
    "print(\"%-28s %-4s %20s\" % (\"Name\", \"Nummer\", \"Rolle  \"))\n",
    "for person in crew:\n",
    "    print (\"%-28s %-4s %20s\" % (person.getName(),person.ordering,person.category))"
   ],
   "metadata": {
    "collapsed": false,
    "pycharm": {
     "name": "#%%\n"
    }
   }
  },
  {
   "cell_type": "markdown",
   "source": [
    "Name ist dabei eigentlich \"ID\", hier aber zur besseren Lesbarkeit als Name dargestellt. <br>\n",
    "Von den kombinierten Tabellen \"person\" und \"titleprincipals\" sind dies die daten, die sinnvoll sind. <br>\n",
    "Nun ist die Frage, welche der Attribute von Movie und Actor für die Ermittlung des Scores wichtig sind. <br>\n",
    "\n",
    "Da stellt sich die Frage, welcher dieser Attribute den Score beeinflussen.<br>\n",
    "Zunächst wurden dabei die Attribute `startYear`,`runtime`, `genre` und `actor` geeinigt, wobei bei actor die attribute `nconst` (id), `ordering` (nummer) und `category` (Rolle) beinhaltet. Diese Attribute unterscheiden einen Film, können jedoch auch gleichzeitig in mehreren Filmen gleich sein, was eine voraussetzung für das lernen ist. Je mehr gleiche Attribute, desto einfacher kann das neurale Netzwerk lernen.\n",
    "Attribute wie die ID oder der Titel eines Films machen keinen Sinn, da sich diese niemals im Datensatz wiederholen. Es könnte lediglich auf einige Schlagwörter eingegangen werden oder die länge des Filmtitels berücksichtigt werden."
   ],
   "metadata": {
    "collapsed": false
   }
  },
  {
   "cell_type": "markdown",
   "source": [
    "## Learning Tests\n",
    "\n",
    "Die ersten Tests wurden mit dem MLPRegressor durchgeführt, welcher über Regression versucht einen Zusammenhang herzustellen. Der Test Score war dabei allerdings bei einem Prozent, weshalb nach einer anderen Lösung gesucht wurde.\n",
    "Deswegen wurde mit den oben genannten Attributen ein MLPClassifier von Scikit learn trainiert. Dieser versucht anhand von verschiedenen Attributen den Film in eine Klasse einzuordnen. Die Klassen sind dabei verschiedene Ratings. Hier lagen anfangs die Test Scores bei etwa 40%.\n",
    "Jedoch wurde bei manuellen Tests klar, dass der Classifier sehr konservative Ratings vorhersagt, die in der Regel zwischen fünf und sieben Sternen lagen. Dadurch könnte der Test Score allein durch konservatives raten so hoch sein.\n",
    "\n",
    "Hier stellte sich die Frage, warum der Classifier so \"vorsichtig\" rät. Die Vermutung bestand, dass der Classifier <br>\n",
    "* nicht genügend Daten pro Film hat,\n",
    "* mit den Daten des Films nichts anfangen kann,\n",
    "* oder zwischen den Daten und dem Rating des Films kein Zusammenhang besteht.\n",
    "\n",
    "Um der ersten Vermutung nachzugehen wurde außerdem die Anzahl der Ratings als Attribut mitgegeben. Damit erhöhte sich der Test Score allerdings nur geringfügig.\n",
    "\n",
    "Um der zweiten Vermutung nachzugehen, könnte anstatt eines Schauspielers die durchschnittliche Bewertung aller Filme mitgegeben werden, an denen dieser partizipiert hat."
   ],
   "metadata": {
    "collapsed": false
   }
  }
 ],
 "metadata": {
  "kernelspec": {
   "name": "python3",
   "language": "python",
   "display_name": "Python 3"
  },
  "language_info": {
   "codemirror_mode": {
    "name": "ipython",
    "version": 2
   },
   "file_extension": ".py",
   "mimetype": "text/x-python",
   "name": "python",
   "nbconvert_exporter": "python",
   "pygments_lexer": "ipython2",
   "version": "2.7.6"
  }
 },
 "nbformat": 4,
 "nbformat_minor": 0
}