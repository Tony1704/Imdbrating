{
 "cells": [
  {
   "cell_type": "markdown",
   "metadata": {
    "slideshow": {
     "slide_type": "slide"
    }
   },
   "source": [
    "# IMDb Rating Predicition\n"
   ]
  },
  {
   "cell_type": "markdown",
   "metadata": {
    "slideshow": {
     "slide_type": "slide"
    }
   },
   "source": [
    "## Inhaltsverzeichnis\n",
    "### 1. Unsere Idee\n",
    "### 2. Auswahl der Algorithmen\n",
    "### 3. Die IMDb Datenbank\n",
    "### 4. Auswahl der Daten\n",
    "### 5. Formatierung der Daten\n",
    "### 6. Ergebnisse\n",
    "### 7. Fazit"
   ]
  },
  {
   "cell_type": "markdown",
   "metadata": {
    "slideshow": {
     "slide_type": "slide"
    }
   },
   "source": [
    "## Unsere Idee\n",
    "Filme sind in der heutigen Zeit aus der Unterhaltungsbranche nicht wegzudenken. Mittlerweile werden durch verschiedene Streaminganbieter eine große Auswahl an Filmen angeboten, die jederzeit geschaut werden können. Einige von den Filmen werden von der Allgemeinheit besser bewertet als andere. Doch woran liegt es, dass einige Filme eine bessere Bewertung von den Zuschauern bekommen? Wir sind ebenfalls große Filmliebhaber. Deswegen haben wir uns gefragt, ob möglicherweise einige Faktoren wie zum Beispiel der Regisseur oder der Schauspieler einen Hinweis darauf liefern können, wie gut ein Film voraussichtlich von der Allgemeinheit bewertet wird.\n",
    "\n",
    "Deswegen wollen wir mit diesem Projekt herausfinden, ob eine Korrelation zwischen den verschiedenen Daten eines Filmes und der durchschnittlichen Bewertung dessen vorliegt. Falls eine Korrelation besteht, könnte beispielsweise durch die Angabe der Schauspieler, die im Film mit spielen, die durchschnittliche Bewertung des Films hervorgesagt werden. Dadurch wäre es in Zukunft unter anderem möglich zu schauen, welche Schauspieler zusammen einen voraussichtlich guten Film und welche einen eher nicht so gut bewerteten Film drehen würden. Hierbei ist es wichtig herauszufinden, ob und welche Filmdaten überhaupt einen Einfluss auf die Bewertung haben. Außerdem ist die Auswahl eines guten Datensets und Algorithmus wichtig, um die Idee mit Hilfe von Machine Learning umsetzen zu können."
   ]
  },
  {
   "cell_type": "markdown",
   "metadata": {
    "slideshow": {
     "slide_type": "slide"
    }
   },
   "source": [
    "## Auswahl der Algorithmen\n",
    "\n",
    "Durch die ersten Tests konnten sowohl beim MLP Classifier als auch bei den Decision Tree gute Ergebnisse erzielt werden. In diesem Abschnitt wird die Vorgehensweise der Classifier näher beschrieben."
   ]
  },
  {
   "cell_type": "markdown",
   "metadata": {
    "slideshow": {
     "slide_type": "subslide"
    }
   },
   "source": [
    "### MLP Classifier\n",
    "\n",
    "Der MLP Classifier ist ein neuronales Netz und zählt zu den Supervised Klassifizierungsalgorithmen.  \n",
    "Ein Neuronales Netz besteht aus verschiedenen Layers. Diese unterteilen sich in Input- Hidden- und Outputlayer. Jedes Layer besteht aus mehreren Neuronen. Jedes Neuron errechnet einen Aktivierungswert, für diesen können verschiedene Funktionen genutzt werden. \n",
    "![Alt-Text](Grafiken/neuronalesnetz.png)"
   ]
  },
  {
   "cell_type": "markdown",
   "metadata": {
    "slideshow": {
     "slide_type": "subslide"
    }
   },
   "source": [
    "Im Inputlayer werden die Daten der verschiedenen Attribute eingegeben. Die Werte dieser werden in das erste Hiddenlayer weiter gegeben. Dabei erhält ein Neuron in dem Hiddenlayer ein Bias von allen Attributen des Inputlayers. In den Neuronen werden nun neue Werte berechnet, welche wiederum an das nächste Hiddenlayer weiter gegeben werden. \n",
    "Das letzte Hiddenlayer sendet Werte an das Outputlayer. Im Output Layer befinden sich die zuvor definierten Klassen, nach denen der Input zugeordnet werden kann. \n",
    "\n",
    "In einem Supervised Classifier haben alle Inputs ein Label. Dieses Label wird am Ende mit der Outputklasse verglichen. Jenachdem wie diese beiden Faktoren übereinstimmen werden die Neuronen in den Hiddenlayers angepasst. Wenn dieser Vorgang mit allen Inputdaten abgeschlossen ist, ist das Training des Classifiers beendet. \n",
    "\n",
    "Der MLP Classifier kann durch verschiedene Faktoren angepasst werden. Zu diesen zählen die Anzahl der Layer und die Anzahl der Neuronen. Ebenfalls kann die Aktivierungsfuntkion des Algoritmus angepasst werden. Für unseren Algorithmus wurde die tanh Funktion (f(x) = tanh(x))  für die Hiddenlayeraktiveierung verwendet, da es die besten Ergebnisse ergeben hat."
   ]
  },
  {
   "cell_type": "markdown",
   "metadata": {
    "slideshow": {
     "slide_type": "subslide"
    }
   },
   "source": [
    "### Decision Tree Classifier\n",
    "Der Decision Tree Classifier ist ebenfalls ein Supervised Klassifizierungsalgorithmus. Hier werden solange einfache Entscheidungen getroffen, bis der Algorithmus den Input eindeutig einer Klasse zuordnen kann. \n",
    "\n",
    "Der Algorithmus lernt anhand von Testdaten, wie er welche Entscheidungen treffen muss, um auf das richtige Ergebnis zu kommen. Der Vorteil dieses Algorithmus ist, dass die Daten nicht großartig aufbereitet werden müssen. Zudem ist der Decision Tree einfach zu verstehen und zu visualisieren. \n",
    "Ein Decision Tree besteht aus einem Root Node. Diser gibt die erste Entscheidung vor. Nodes erhalten Daten aus einem Node davor oder dem Root Node und geben anhand dessen eine Entscheidung aus. Leafs teilen die Daten nicht weiter auf.\n",
    "\n",
    "![Alt-Text](Grafiken/decisiontree.png)"
   ]
  },
  {
   "cell_type": "markdown",
   "metadata": {
    "slideshow": {
     "slide_type": "subslide"
    }
   },
   "source": [
    "### Random Forest Classifier\n",
    "Der Nachteil der Decision Trees ist, dass mit neuen Daten starke Unterschiede entstehen können. Der Decision Tree neigt zu Overfitting. Dem können Random Forest Classifier entgegenwirken. Hier werden meherere Decision Trees aus unterschiedlichen Teilen der Trainingsdaten erstellt. Anschließend wird eine Abstimmung durchgeführt, um die Ergebnisse zu verbessern."
   ]
  },
  {
   "cell_type": "markdown",
   "metadata": {
    "slideshow": {
     "slide_type": "slide"
    }
   },
   "source": [
    "## Die IMDb Datenbank\n",
    "Bei der Auswahl des Datensets wurde sich für die IMDb (Internet Movie Database) Datenbank entschieden, da diese die größte öffentlich zugängliche Filmdatenbank ist. In dieser Datenbank können verschiedene Daten zu den Filmen sowie den Personen, die am Film mitgewirkt haben, gefunden werden.\n",
    "Ein ausgewählter Teil der IMDb Datenbank kann beispielsweise auf Kaggle gefunden werden.\n",
    "Es handelt sich dabei um eine relationale Datenbank, welche folgende Tabellen enthält:\n"
   ]
  },
  {
   "cell_type": "code",
   "execution_count": 1,
   "metadata": {
    "jupyter": {
     "outputs_hidden": false
    },
    "pycharm": {
     "name": "#%%\n"
    },
    "slideshow": {
     "slide_type": "subslide"
    }
   },
   "outputs": [
    {
     "name": "stdout",
     "output_type": "stream",
     "text": [
      "Spalten der Tabelle most_rated_movies:\n",
      "\tprimaryTitle, numVotes\n",
      "Spalten der Tabelle person:\n",
      "\tnconst, primaryName, birthYear, deathYear, primaryProfession, knownForTitles, averageRating\n",
      "Spalten der Tabelle titleakas:\n",
      "\ttitleId, ordering, title, region, language, types, attributes, isOriginalTitle\n",
      "Spalten der Tabelle titlebasic:\n",
      "\ttconst, titleType, primaryTitle, originalTitle, isAdult, startYear, endYear, runtimeMinutes, genres\n",
      "Spalten der Tabelle titleprincipals:\n",
      "\ttconst, ordering, nconst, category, job, characters\n",
      "Spalten der Tabelle titleratings:\n",
      "\ttconst, averageRating, numVotes\n",
      "Spalten der Tabelle top_rated_movies:\n",
      "\tprimaryTitle, startYear, averageRating, numVotes\n",
      "Spalten der Tabelle valid_movies:\n",
      "\ttconst, primaryTitle, startYear, runtimeMinutes, genres, averageRating, numVotes\n"
     ]
    }
   ],
   "source": [
    "#%load_ext autoreload\n",
    "#%reload_ext autoreload\n",
    "#%matplotlib inline\n",
    "import database_connector\n",
    "import main\n",
    "db = database_connector.DataBase()\n",
    "tables = db.show_tables()\n",
    "\n",
    "for table in tables:\n",
    "    field_info_text = db.get_table_field_info(table)\n",
    "\n",
    "    print(f\"Spalten der Tabelle {table}:\")\n",
    "    print(\"\\t\" + \", \".join(field_info_text))\n"
   ]
  },
  {
   "cell_type": "markdown",
   "metadata": {
    "slideshow": {
     "slide_type": "subslide"
    }
   },
   "source": [
    "Viele Einträge sind allerdings fehlerhaft oder unvollständig, weswegen es wichtig ist, diese zu filtern und nur die relevanten Daten zu verwenden."
   ]
  },
  {
   "cell_type": "markdown",
   "metadata": {
    "slideshow": {
     "slide_type": "fragment"
    }
   },
   "source": [
    "Die Tabelle Titlebasic beinhaltet alle Titel und ist 5 Millionen Einträge groß:"
   ]
  },
  {
   "cell_type": "code",
   "execution_count": 2,
   "metadata": {
    "jupyter": {
     "outputs_hidden": false
    },
    "pycharm": {
     "name": "#%%\n"
    },
    "slideshow": {
     "slide_type": "fragment"
    }
   },
   "outputs": [
    {
     "data": {
      "text/plain": [
       "(5701079,)"
      ]
     },
     "execution_count": 2,
     "metadata": {},
     "output_type": "execute_result"
    }
   ],
   "source": [
    "db.sql(\"SELECT COUNT(*) FROM titlebasic\")[0]"
   ]
  },
  {
   "cell_type": "markdown",
   "metadata": {
    "slideshow": {
     "slide_type": "subslide"
    }
   },
   "source": [
    "Die IMDb Datenbank enthält allerdings nicht nur Daten zu Filmen, sondern auch zu Serien. Deswegen müssen die 5 Millionen Einträge nach dem Typ Film gefiltert werden. Dadurch kommen wir auf ungefähr 500.000 Einträge:"
   ]
  },
  {
   "cell_type": "code",
   "execution_count": 3,
   "metadata": {
    "jupyter": {
     "outputs_hidden": false
    },
    "pycharm": {
     "name": "#%%\n"
    },
    "slideshow": {
     "slide_type": "fragment"
    }
   },
   "outputs": [
    {
     "data": {
      "text/plain": [
       "(509332,)"
      ]
     },
     "execution_count": 3,
     "metadata": {},
     "output_type": "execute_result"
    }
   ],
   "source": [
    "db.sql(\"SELECT COUNT(*) FROM titlebasic WHERE titleType = 'Movie'\")[0]"
   ]
  },
  {
   "cell_type": "markdown",
   "metadata": {
    "pycharm": {
     "name": "#%% md\n"
    },
    "slideshow": {
     "slide_type": "subslide"
    }
   },
   "source": [
    "Unter diesen 500.000 Filmen sind einige, die keine Bewertung haben. Diese müssen ebenfalls herausgefiltert werden, wodurch 200.000 Einträge übrig bleiben:\n"
   ]
  },
  {
   "cell_type": "code",
   "execution_count": 4,
   "metadata": {
    "jupyter": {
     "outputs_hidden": false
    },
    "pycharm": {
     "name": "#%%\n"
    },
    "slideshow": {
     "slide_type": "fragment"
    }
   },
   "outputs": [
    {
     "data": {
      "text/plain": [
       "(237738,)"
      ]
     },
     "execution_count": 4,
     "metadata": {},
     "output_type": "execute_result"
    }
   ],
   "source": [
    "db.sql(\"SELECT COUNT(*) FROM titlebasic inner join titleratings on titleratings.tconst = titlebasic.tconst where titleType = 'Movie'\")[0]"
   ]
  },
  {
   "cell_type": "markdown",
   "metadata": {
    "slideshow": {
     "slide_type": "subslide"
    }
   },
   "source": [
    "Davon haben nur 3000 Einträge mehr als 50000 Bewertungen, ein Wert bei welchem wir festgestellt haben, dass die Bewertungen eine ausreichende Aussagekraft besitzen."
   ]
  },
  {
   "cell_type": "code",
   "execution_count": 5,
   "metadata": {
    "jupyter": {
     "outputs_hidden": false
    },
    "pycharm": {
     "name": "#%%\n"
    },
    "slideshow": {
     "slide_type": "fragment"
    }
   },
   "outputs": [
    {
     "data": {
      "text/plain": [
       "(3023,)"
      ]
     },
     "execution_count": 5,
     "metadata": {},
     "output_type": "execute_result"
    }
   ],
   "source": [
    "db.sql(\"SELECT COUNT(*) FROM titlebasic inner join titleratings on titleratings.tconst = titlebasic.tconst where titleType = 'Movie' AND titleratings.numVotes > 50000\")[0]\n"
   ]
  },
  {
   "cell_type": "markdown",
   "metadata": {
    "slideshow": {
     "slide_type": "subslide"
    }
   },
   "source": [
    "Das sind die Filme, die in der view \"Valid_Movies\" dargestellt werden."
   ]
  },
  {
   "cell_type": "code",
   "execution_count": 6,
   "metadata": {
    "jupyter": {
     "outputs_hidden": false
    },
    "pycharm": {
     "name": "#%%\n"
    },
    "slideshow": {
     "slide_type": "fragment"
    }
   },
   "outputs": [
    {
     "data": {
      "text/plain": [
       "[('The Pancake Ghost', 2021, 0, 'Musical'),\n",
       " ('Mayday', 2020, 0, 'Drama'),\n",
       " ('Aladdin', 2019, 128, 'Adventure,Family,Fantasy'),\n",
       " ('Glass', 2019, 129, 'Drama,Sci-Fi,Thriller'),\n",
       " ('Yesterday', 2019, 116, 'Comedy,Fantasy,Music'),\n",
       " ('Toy Story 4', 2019, 100, 'Adventure,Animation,Comedy'),\n",
       " ('Joker', 2019, 122, 'Crime,Drama,Thriller'),\n",
       " ('Parasite', 2019, 132, 'Comedy,Drama,Thriller')]"
      ]
     },
     "execution_count": 6,
     "metadata": {},
     "output_type": "execute_result"
    }
   ],
   "source": [
    "db.sql(\"SELECT primaryTitle, startYear, runtimeMinutes, genres FROM imdb.valid_movies order by startYear DESC limit 8\")"
   ]
  },
  {
   "cell_type": "markdown",
   "metadata": {
    "slideshow": {
     "slide_type": "subslide"
    }
   },
   "source": [
    "Wenn die View \"Valid_Movies\" nach der Bewertung sortiert wird fällt auf, dass die Liste der best bewertesten Filme auf der IMDb Website dieser ähnelt, weswegen davon ausgegangen werden kann, dass die IMDb ähnliche Filter anwendet."
   ]
  },
  {
   "cell_type": "code",
   "execution_count": 7,
   "metadata": {
    "jupyter": {
     "outputs_hidden": false
    },
    "pycharm": {
     "name": "#%%\n"
    },
    "slideshow": {
     "slide_type": "fragment"
    }
   },
   "outputs": [
    {
     "data": {
      "text/plain": [
       "[('The Shawshank Redemption', 1994, 9.3, 2159745),\n",
       " ('The Godfather', 1972, 9.2, 1482225),\n",
       " ('The Godfather: Part II', 1974, 9.0, 1032110),\n",
       " ('The Dark Knight', 2008, 9.0, 2134602),\n",
       " ('The Mountain II', 2016, 9.0, 101817),\n",
       " ('12 Angry Men', 1957, 8.9, 617607),\n",
       " (\"Schindler's List\", 1993, 8.9, 1120297),\n",
       " ('Pulp Fiction', 1994, 8.9, 1695159),\n",
       " ('The Lord of the Rings: The Return of the King', 2003, 8.9, 1533632),\n",
       " ('The Good, the Bad and the Ugly', 1966, 8.8, 640941),\n",
       " ('Forrest Gump', 1994, 8.8, 1662609),\n",
       " ('The Lord of the Rings: The Fellowship of the Ring', 2001, 8.8, 1548920),\n",
       " ('Fight Club', 1999, 8.8, 1725444),\n",
       " ('Inception', 2010, 8.8, 1892958),\n",
       " ('Joker', 2019, 8.8, 466912),\n",
       " (\"One Flew Over the Cuckoo's Nest\", 1975, 8.7, 852798),\n",
       " ('Star Wars: Episode V - The Empire Strikes Back', 1980, 8.7, 1078754),\n",
       " ('Goodfellas', 1990, 8.7, 933687),\n",
       " ('The Matrix', 1999, 8.7, 1554345),\n",
       " ('The Lord of the Rings: The Two Towers', 2002, 8.7, 1387208),\n",
       " (\"It's a Wonderful Life\", 1946, 8.6, 366750),\n",
       " ('Seven Samurai', 1954, 8.6, 292241),\n",
       " ('Star Wars: Episode IV - A New Hope', 1977, 8.6, 1147264),\n",
       " ('The Silence of the Lambs', 1991, 8.6, 1169847),\n",
       " ('Se7en', 1995, 8.6, 1327441),\n",
       " ('Life Is Beautiful', 1997, 8.6, 570765),\n",
       " ('The Green Mile', 1999, 8.6, 1050158),\n",
       " ('Saving Private Ryan', 1998, 8.6, 1143793),\n",
       " ('Spirited Away', 2001, 8.6, 577038),\n",
       " ('City of God', 2002, 8.6, 659285),\n",
       " ('Interstellar', 2014, 8.6, 1348184),\n",
       " ('Senna', 2010, 8.6, 56850),\n",
       " ('Parasite', 2019, 8.6, 73962),\n",
       " ('City Lights', 1931, 8.5, 152730),\n",
       " ('Modern Times', 1936, 8.5, 197987),\n",
       " ('The Great Dictator', 1940, 8.5, 186657),\n",
       " ('Casablanca', 1942, 8.5, 487781),\n",
       " ('Psycho', 1960, 8.5, 555275),\n",
       " ('Once Upon a Time in the West', 1968, 8.5, 279260),\n",
       " ('Back to the Future', 1985, 8.5, 965539)]"
      ]
     },
     "execution_count": 7,
     "metadata": {},
     "output_type": "execute_result"
    }
   ],
   "source": [
    "db.get_top_rated_movies()"
   ]
  },
  {
   "cell_type": "markdown",
   "metadata": {
    "slideshow": {
     "slide_type": "slide"
    }
   },
   "source": [
    "## Auswahl der Daten\n",
    "Da wir nun die Auswahl der Datensätze getroffen haben, geht es nun darum, Attribute auszuwählen, die für das neurale Netzwerk genutzt werden können. Das Attribut `titleType` macht hierbei keinen Sinn, da es sich eh nur um Filme handelt. Daher wird auch das `endYear` ignoriert, da bei einem Film das Attribut keinen Wert hat. Ebenso interessiert uns der `originalTitle` für das Rating nicht genau so wie das Attribut `isAdult`. Alle anderen Attribute dagegen werden benötigt."
   ]
  },
  {
   "cell_type": "code",
   "execution_count": 8,
   "metadata": {
    "jupyter": {
     "outputs_hidden": false
    },
    "pycharm": {
     "name": "#%%\n"
    },
    "slideshow": {
     "slide_type": "subslide"
    }
   },
   "outputs": [
    {
     "name": "stdout",
     "output_type": "stream",
     "text": [
      "Loading Database...\n",
      "100.0% \t Time elapsed: 0:00:01.707s\n",
      "Database loaded.\n",
      "ID\t\ttt1375666\n",
      "Titel\t\tInception\n",
      "Jahr\t\t2010\n",
      "Laufzeit\t148\n",
      "Genres\t\t['Action', 'Adventure', 'Sci-Fi']\n",
      "Average Rating\t8.8\n",
      "Number of Votes\t1892958\n"
     ]
    }
   ],
   "source": [
    "movies = main.loadDataBase()\n",
    "inception = movies[2213]\n",
    "print(f\"ID\\t\\t{inception.id}\\nTitel\\t\\t{inception.title}\\nJahr\\t\\t{inception.startYear}\\nLaufzeit\\t{inception.runtimeMinutes}\\nGenres\\t\\t{inception.genres}\\nAverage Rating\\t{inception.averageRating}\\nNumber of Votes\\t{inception.numVotes}\")"
   ]
  },
  {
   "cell_type": "code",
   "execution_count": 9,
   "metadata": {
    "jupyter": {
     "outputs_hidden": false
    },
    "pycharm": {
     "name": "#%%\n"
    },
    "slideshow": {
     "slide_type": "subslide"
    }
   },
   "outputs": [
    {
     "name": "stdout",
     "output_type": "stream",
     "text": [
      "Name                      Bewertung  Nummer              Rolle  \n",
      "Leonardo DiCaprio         7.28       1                   actor\n",
      "Joseph Gordon-Levitt      7.2        2                   actor\n",
      "Ellen Page                7.2        3                 actress\n",
      "Ken Watanabe              7.5        4                   actor\n",
      "Christopher Nolan         8.08       5                director\n",
      "Emma Thomas               8.28       6                producer\n",
      "Hans Zimmer               7.02       7                composer\n",
      "Wally Pfister             7.83       8         cinematographer\n",
      "Lee Smith                 8.35       9                  editor\n",
      "Guy Hendrix Dyas          8.8        10    production_designer\n"
     ]
    }
   ],
   "source": [
    "crew = inception.actors\n",
    "print(\"%-25s %-10s %-4s %20s\" % (\"Name\", \"Bewertung\",\"Nummer\", \"Rolle  \"))\n",
    "for person in crew:\n",
    "    print (\"%-25s %-10s %-4s %20s\" % (person.getName(),person.rating, person.ordering,person.category))"
   ]
  },
  {
   "cell_type": "markdown",
   "metadata": {
    "slideshow": {
     "slide_type": "slide"
    }
   },
   "source": [
    "## Formatierung der Daten\n",
    "Nachdem die Daten aus der Datenbank in das Python Programm geladen wurden, liegen sie als Objekte im Speicher. Da die ausgesuchten Algorithmen keine relationalen Objektdaten verarbeiten können, müssen diese in Vektoren eiener konstanten Dimension umformatiert werden. Die einschränkungen des IMDb Datensatzes kamen uns dabei entgegen. <br>\n",
    "Das größte Problem war dabei die umkonvertierung der kategorischen Daten zu numerischen Werten. Die Werte `startYear`, `runtime`, `numberOfVotes` und (Länge des) `title` waren schon numerisch, weshalb diese direkt in den Vektor aufgenommen werden können. <br>\n",
    "Dann gibt es noch Daten, welche rein Kategorisch sind und nicht sinnvoll auf einer numerischen Skala festgelegt werden können: `genre`,`nconst`,`category`<br>"
   ]
  },
  {
   "cell_type": "markdown",
   "metadata": {
    "slideshow": {
     "slide_type": "subslide"
    }
   },
   "source": [
    "Für Genre und Category werden jeweils ein One-Hot Encoder benutzt. Dieser erzeugt für n Kategorien ein Bitarray der größe n, bei welchem die Kategorie die einzige 1 ist. Hier ein simples Beipsiel:"
   ]
  },
  {
   "cell_type": "code",
   "execution_count": 10,
   "metadata": {
    "slideshow": {
     "slide_type": "fragment"
    }
   },
   "outputs": [
    {
     "data": {
      "text/plain": [
       "array([[0, 0, 0, 1],\n",
       "       [0, 1, 0, 0],\n",
       "       [1, 0, 0, 0],\n",
       "       [0, 0, 1, 0]])"
      ]
     },
     "execution_count": 10,
     "metadata": {},
     "output_type": "execute_result"
    }
   ],
   "source": [
    "from sklearn import preprocessing\n",
    "categories = [\"Stark\",\"Lannister\",\"Baratheon\",\"Martell\"]\n",
    "lb = preprocessing.LabelBinarizer()\n",
    "lb.fit_transform(categories)"
   ]
  },
  {
   "cell_type": "markdown",
   "metadata": {
    "slideshow": {
     "slide_type": "fragment"
    }
   },
   "source": [
    "Anschließend kann ein beliebiges Label in ein Bitarray transformiert werden"
   ]
  },
  {
   "cell_type": "code",
   "execution_count": 11,
   "metadata": {
    "slideshow": {
     "slide_type": "fragment"
    }
   },
   "outputs": [
    {
     "data": {
      "text/plain": [
       "array([[0, 1, 0, 0]])"
      ]
     },
     "execution_count": 11,
     "metadata": {},
     "output_type": "execute_result"
    }
   ],
   "source": [
    "lb.transform([\"Lannister\"])"
   ]
  },
  {
   "cell_type": "markdown",
   "metadata": {
    "slideshow": {
     "slide_type": "subslide"
    }
   },
   "source": [
    "Wie zu sehen ist, eignet sich es nicht für eine große Anzahl von Labels, da das Array dabei sehr groß werden würde. Da es jedoch nur 23 Genres und 11 Categories (Rollen) gibt, eignet sich das One-Hot Encoding für diese Daten gut. Da in der IMDb Datenbank ein Film höchstens drei Genres haben kann und dank dass One-Hot Encoding diese drei Arrays zusammenaddiert werden können, müssen für die Genres nur 23 Features hinzugefügt werden. <br>\n",
    "Eine weitere Einschränkung unseres Datensatzes ist es, dass pro Film maximal 10 Schauspieler/Crew eingetragen sind. Das erleichtert das Arbeiten mit dem Algorithmus, da wir immer eine feste Anzahl an Schauspielern mitgeben. Da es 12000 mögliche Schauspieler (nconst) gibt, ist hier ein One-Hot Encoding nicht sinnvoll.<br>\n",
    "Für den Schauspieler wird deshalb ein LabelEncoder verwendet, welcher jedem Schauspieler eine Nummer zuordnet."
   ]
  },
  {
   "cell_type": "code",
   "execution_count": 12,
   "metadata": {
    "slideshow": {
     "slide_type": "fragment"
    }
   },
   "outputs": [
    {
     "data": {
      "text/plain": [
       "array([3, 1, 0, 2], dtype=int64)"
      ]
     },
     "execution_count": 12,
     "metadata": {},
     "output_type": "execute_result"
    }
   ],
   "source": [
    "lb = preprocessing.LabelEncoder()\n",
    "lb.fit_transform(categories)"
   ]
  },
  {
   "cell_type": "code",
   "execution_count": 13,
   "metadata": {
    "slideshow": {
     "slide_type": "fragment"
    }
   },
   "outputs": [
    {
     "data": {
      "text/plain": [
       "array([1], dtype=int64)"
      ]
     },
     "execution_count": 13,
     "metadata": {},
     "output_type": "execute_result"
    }
   ],
   "source": [
    "lb.transform([\"Lannister\"])"
   ]
  },
  {
   "cell_type": "markdown",
   "metadata": {
    "slideshow": {
     "slide_type": "subslide"
    }
   },
   "source": [
    "Für jeden Film werden demnach die Features <br>\n",
    "* Länge des Titels\n",
    "* startYear\n",
    "* runtime\n",
    "* numberOfVotes\n",
    "* 23x Genres\n",
    "* 10x\n",
    "    * Schauspieler ID (später durchschnittl. Bewertung)\n",
    "    * ordering\n",
    "    * 11x Category (Rolle)"
   ]
  },
  {
   "cell_type": "markdown",
   "metadata": {
    "slideshow": {
     "slide_type": "fragment"
    }
   },
   "source": [
    "Das Array welches in den Algorithmus übergeben wird, ist 157 Features (Attribute) groß."
   ]
  },
  {
   "cell_type": "markdown",
   "metadata": {
    "slideshow": {
     "slide_type": "slide"
    }
   },
   "source": [
    "## Ergebnisse\n",
    "\n",
    "Mit den oben genannten Attributen wurden drei Algorithmen Trainiert, um zu sehen, welcher besser geeignet ist. Diese Algorithmen waren der MLPClassifier, Decision Tree Classifier und Random Forest Classifier von Sklearn. Die Klassen sind die verschiedenen (ganzzahligen) Ratings, die ein Film haben kann. Wir unterteilten dabei unseren Datensatz in 70% Trainings und 30% Testdaten. Wir erhielten Testscores zwischen ~70-80%."
   ]
  },
  {
   "cell_type": "markdown",
   "metadata": {
    "slideshow": {
     "slide_type": "slide"
    }
   },
   "source": [
    "### Der Predictor\n",
    "Zunächst werden alle Filme aus der Datenbank geladen."
   ]
  },
  {
   "cell_type": "code",
   "execution_count": 14,
   "metadata": {
    "jupyter": {
     "outputs_hidden": false
    },
    "pycharm": {
     "name": "#%%\n"
    },
    "slideshow": {
     "slide_type": "subslide"
    }
   },
   "outputs": [
    {
     "name": "stdout",
     "output_type": "stream",
     "text": [
      "Loading Database...\n",
      "100.0% \t Time elapsed: 0:00:01.652s\n",
      "Database loaded.\n"
     ]
    }
   ],
   "source": [
    "import database_connector\n",
    "import ratingPredictor\n",
    "\n",
    "allMovies = main.loadDataBase()"
   ]
  },
  {
   "cell_type": "markdown",
   "metadata": {
    "pycharm": {
     "name": "#%% md\n"
    },
    "slideshow": {
     "slide_type": "fragment"
    }
   },
   "source": [
    "Nun wird der Rating Predictor, also unser Decision Tree/Neurales Netwerk erzeugt und trainiert sich an den Daten allMovies."
   ]
  },
  {
   "cell_type": "code",
   "execution_count": 15,
   "metadata": {
    "jupyter": {
     "outputs_hidden": false
    },
    "pycharm": {
     "name": "#%%\n"
    },
    "slideshow": {
     "slide_type": "fragment"
    }
   },
   "outputs": [],
   "source": [
    "nrater = ratingPredictor.ratingPredictor(allMovies)\n",
    "trater = ratingPredictor.ratingPredictor(allMovies)\n",
    "frater = ratingPredictor.ratingPredictor(allMovies)"
   ]
  },
  {
   "cell_type": "markdown",
   "metadata": {
    "slideshow": {
     "slide_type": "subslide"
    }
   },
   "source": [
    "Mit algorithm kann der Algortihmus ausgewählt werden, der genutzt werden soll: neural, tree oder forest"
   ]
  },
  {
   "cell_type": "code",
   "execution_count": 16,
   "metadata": {
    "slideshow": {
     "slide_type": "fragment"
    }
   },
   "outputs": [
    {
     "name": "stdout",
     "output_type": "stream",
     "text": [
      "Converting data...\n",
      "100.0% \t Time elapsed: 0:00:09.648s\n",
      "Data converted.\n",
      "Training started...\n",
      "Training done.\n",
      "Test score is:\n",
      "0.7166482910694597\n"
     ]
    }
   ],
   "source": [
    "clf_neural = nrater.learn(algorithm='neural') "
   ]
  },
  {
   "cell_type": "code",
   "execution_count": 17,
   "metadata": {
    "slideshow": {
     "slide_type": "fragment"
    }
   },
   "outputs": [
    {
     "data": {
      "text/plain": [
       "[<matplotlib.lines.Line2D at 0x27a2a62ca00>]"
      ]
     },
     "execution_count": 17,
     "metadata": {},
     "output_type": "execute_result"
    },
    {
     "data": {
      "image/png": "[encoded data removed]",
      "text/plain": [
       "<Figure size 432x288 with 1 Axes>"
      ]
     },
     "metadata": {
      "needs_background": "light"
     },
     "output_type": "display_data"
    }
   ],
   "source": [
    "%matplotlib inline\n",
    "from matplotlib import pyplot as plt\n",
    "plt.plot(clf_neural.loss_curve_)"
   ]
  },
  {
   "cell_type": "code",
   "execution_count": 18,
   "metadata": {
    "slideshow": {
     "slide_type": "subslide"
    }
   },
   "outputs": [
    {
     "name": "stdout",
     "output_type": "stream",
     "text": [
      "Converting data...\n",
      "100.0% \t Time elapsed: 0:00:09.449s\n",
      "Data converted.\n",
      "Training started...\n",
      "Training done.\n",
      "Test score is:\n",
      "0.7574421168687983\n"
     ]
    }
   ],
   "source": [
    "clf_tree = trater.learn(algorithm='tree') "
   ]
  },
  {
   "cell_type": "code",
   "execution_count": 19,
   "metadata": {
    "slideshow": {
     "slide_type": "fragment"
    }
   },
   "outputs": [
    {
     "data": {
      "image/png": "[encoded data removed]",
      "text/plain": [
       "<Figure size 432x288 with 1 Axes>"
      ]
     },
     "metadata": {
      "needs_background": "light"
     },
     "output_type": "display_data"
    }
   ],
   "source": [
    "import matplotlib\n",
    "from sklearn import tree\n",
    "tree.plot_tree(clf_tree)\n",
    "plot = plt.show()"
   ]
  },
  {
   "cell_type": "code",
   "execution_count": 20,
   "metadata": {
    "slideshow": {
     "slide_type": "subslide"
    }
   },
   "outputs": [
    {
     "name": "stdout",
     "output_type": "stream",
     "text": [
      "Converting data...\n",
      "100.0% \t Time elapsed: 0:00:09.649s\n",
      "Data converted.\n",
      "Training started...\n",
      "Training done.\n",
      "Test score is:\n",
      "0.804851157662624\n"
     ]
    }
   ],
   "source": [
    "clf_forest = frater.learn(algorithm='forest')"
   ]
  },
  {
   "cell_type": "code",
   "execution_count": 21,
   "metadata": {
    "slideshow": {
     "slide_type": "subslide"
    }
   },
   "outputs": [
    {
     "data": {
      "text/plain": [
       "<BarContainer object of 9 artists>"
      ]
     },
     "execution_count": 21,
     "metadata": {},
     "output_type": "execute_result"
    },
    {
     "data": {
      "image/png": "[encoded data removed]",
      "text/plain": [
       "<Figure size 432x288 with 1 Axes>"
      ]
     },
     "metadata": {
      "needs_background": "light"
     },
     "output_type": "display_data"
    }
   ],
   "source": [
    "plt.ylabel('Anzahl der Filme')\n",
    "plt.xlabel('Bewertung der Filme')\n",
    "x = [1,2,3,4,5,6,7,8,9]\n",
    "plt.xticks(x)\n",
    "x, y = nrater.plot_ratings()\n",
    "plt.bar(x,y)"
   ]
  },
  {
   "cell_type": "code",
   "execution_count": 22,
   "metadata": {
    "slideshow": {
     "slide_type": "subslide"
    }
   },
   "outputs": [
    {
     "data": {
      "text/plain": [
       "Text(0.5, 1.0, 'Neural Network')"
      ]
     },
     "execution_count": 22,
     "metadata": {},
     "output_type": "execute_result"
    },
    {
     "data": {
      "image/png": "[encoded data removed]",
      "text/plain": [
       "<Figure size 432x288 with 2 Axes>"
      ]
     },
     "metadata": {
      "needs_background": "light"
     },
     "output_type": "display_data"
    }
   ],
   "source": [
    "from sklearn.metrics import plot_roc_curve\n",
    "from sklearn.metrics import plot_confusion_matrix\n",
    "#disp = plot_roc_curve(clf, rater.x_test, rater.y_test)\n",
    "disp1 = plot_confusion_matrix(clf_neural, nrater.x_test, nrater.y_test,\n",
    "                                 display_labels=[1,2,3,4,5,6,7,8,9],\n",
    "                                 cmap='Blues',\n",
    "                                 normalize='true',\n",
    "                                values_format='.0g')\n",
    "disp1.ax_.set_title('Neural Network')"
   ]
  },
  {
   "cell_type": "code",
   "execution_count": 23,
   "metadata": {
    "slideshow": {
     "slide_type": "subslide"
    }
   },
   "outputs": [
    {
     "data": {
      "text/plain": [
       "Text(0.5, 1.0, 'Decision Tree')"
      ]
     },
     "execution_count": 23,
     "metadata": {},
     "output_type": "execute_result"
    },
    {
     "data": {
      "image/png": "[encoded data removed]",
      "text/plain": [
       "<Figure size 432x288 with 2 Axes>"
      ]
     },
     "metadata": {
      "needs_background": "light"
     },
     "output_type": "display_data"
    }
   ],
   "source": [
    "disp2 = plot_confusion_matrix(clf_tree, trater.x_test, trater.y_test,\n",
    "                                 display_labels=[1,2,3,4,5,6,7,8,9],\n",
    "                                 cmap='Blues',\n",
    "                                 normalize='true',\n",
    "                                values_format='.0g')\n",
    "disp2.ax_.set_title('Decision Tree')"
   ]
  },
  {
   "cell_type": "code",
   "execution_count": 24,
   "metadata": {
    "slideshow": {
     "slide_type": "subslide"
    }
   },
   "outputs": [
    {
     "data": {
      "text/plain": [
       "Text(0.5, 1.0, 'Random Forest Classifier')"
      ]
     },
     "execution_count": 24,
     "metadata": {},
     "output_type": "execute_result"
    },
    {
     "data": {
      "image/png": "[encoded data removed]",
      "text/plain": [
       "<Figure size 432x288 with 2 Axes>"
      ]
     },
     "metadata": {
      "needs_background": "light"
     },
     "output_type": "display_data"
    }
   ],
   "source": [
    "disp3 = plot_confusion_matrix(clf_forest, frater.x_test, frater.y_test,\n",
    "                                 display_labels=[1,2,3,4,5,6,7,8,9],\n",
    "                                 cmap='Blues',\n",
    "                                 normalize='true',\n",
    "                                values_format='.0g')\n",
    "disp3.ax_.set_title('Random Forest Classifier')"
   ]
  },
  {
   "cell_type": "code",
   "execution_count": 25,
   "metadata": {
    "slideshow": {
     "slide_type": "subslide"
    }
   },
   "outputs": [
    {
     "name": "stdout",
     "output_type": "stream",
     "text": [
      "\t\t\tNeural Network\n",
      "              precision    recall  f1-score   support\n",
      "\n",
      "           1       0.00      0.00      0.00         2\n",
      "           2       0.00      0.00      0.00         3\n",
      "           3       0.00      0.00      0.00         1\n",
      "           4       0.00      0.00      0.00        13\n",
      "           5       0.63      0.49      0.55       109\n",
      "           6       0.67      0.80      0.73       298\n",
      "           7       0.76      0.81      0.78       370\n",
      "           8       0.82      0.53      0.64       110\n",
      "           9       0.00      0.00      0.00         1\n",
      "\n",
      "    accuracy                           0.72       907\n",
      "   macro avg       0.32      0.29      0.30       907\n",
      "weighted avg       0.70      0.72      0.70       907\n",
      "\n"
     ]
    }
   ],
   "source": [
    "from sklearn.metrics import classification_report\n",
    "y_pred, y_true = nrater.predictAllTestValues()\n",
    "print(\"\\t\\t\\tNeural Network\\n\" +classification_report(y_true, y_pred, zero_division = 0))"
   ]
  },
  {
   "cell_type": "code",
   "execution_count": 26,
   "metadata": {
    "slideshow": {
     "slide_type": "subslide"
    }
   },
   "outputs": [
    {
     "name": "stdout",
     "output_type": "stream",
     "text": [
      "\t\t\tDecision Tree\n",
      "              precision    recall  f1-score   support\n",
      "\n",
      "           1       0.00      0.00      0.00         2\n",
      "           2       0.00      0.00      0.00         3\n",
      "           3       0.33      1.00      0.50         1\n",
      "           4       0.50      0.54      0.52        13\n",
      "           5       0.68      0.70      0.69       109\n",
      "           6       0.70      0.75      0.72       298\n",
      "           7       0.81      0.78      0.79       370\n",
      "           8       0.88      0.83      0.85       110\n",
      "           9       1.00      1.00      1.00         1\n",
      "\n",
      "    accuracy                           0.76       907\n",
      "   macro avg       0.55      0.62      0.56       907\n",
      "weighted avg       0.76      0.76      0.76       907\n",
      "\n"
     ]
    }
   ],
   "source": [
    "y_pred, y_true = trater.predictAllTestValues()\n",
    "print(\"\\t\\t\\tDecision Tree\\n\" +classification_report(y_true, y_pred, zero_division = 0))"
   ]
  },
  {
   "cell_type": "code",
   "execution_count": 27,
   "metadata": {
    "slideshow": {
     "slide_type": "subslide"
    }
   },
   "outputs": [
    {
     "name": "stdout",
     "output_type": "stream",
     "text": [
      "\t\t\tRandom Forest Classifier\n",
      "              precision    recall  f1-score   support\n",
      "\n",
      "           1       0.00      0.00      0.00         2\n",
      "           2       0.00      0.00      0.00         3\n",
      "           3       0.00      0.00      0.00         1\n",
      "           4       0.67      0.31      0.42        13\n",
      "           5       0.81      0.61      0.70       109\n",
      "           6       0.72      0.85      0.78       298\n",
      "           7       0.85      0.86      0.85       370\n",
      "           8       0.96      0.82      0.88       110\n",
      "           9       0.00      0.00      0.00         1\n",
      "\n",
      "    accuracy                           0.80       907\n",
      "   macro avg       0.44      0.38      0.40       907\n",
      "weighted avg       0.81      0.80      0.80       907\n",
      "\n"
     ]
    }
   ],
   "source": [
    "y_pred, y_true = frater.predictAllTestValues()\n",
    "print(\"\\t\\t\\tRandom Forest Classifier\\n\" +classification_report(y_true, y_pred, zero_division = 0))"
   ]
  },
  {
   "cell_type": "code",
   "execution_count": 28,
   "metadata": {
    "slideshow": {
     "slide_type": "subslide"
    }
   },
   "outputs": [
    {
     "name": "stdout",
     "output_type": "stream",
     "text": [
      "Neural Network\n",
      "\n"
     ]
    },
    {
     "data": {
      "text/plain": [
       "0.7376484699129093"
      ]
     },
     "execution_count": 28,
     "metadata": {},
     "output_type": "execute_result"
    }
   ],
   "source": [
    "from sklearn.metrics import roc_auc_score\n",
    "print(\"Neural Network\\n\")\n",
    "roc_auc_score(nrater.y_test,clf_neural.predict_proba(nrater.x_test),multi_class='ovr')"
   ]
  },
  {
   "cell_type": "code",
   "execution_count": 29,
   "metadata": {
    "slideshow": {
     "slide_type": "fragment"
    }
   },
   "outputs": [
    {
     "name": "stdout",
     "output_type": "stream",
     "text": [
      "Decision Tree\n",
      "\n"
     ]
    },
    {
     "data": {
      "text/plain": [
       "0.7909268985973886"
      ]
     },
     "execution_count": 29,
     "metadata": {},
     "output_type": "execute_result"
    }
   ],
   "source": [
    "print(\"Decision Tree\\n\")\n",
    "roc_auc_score(trater.y_test,clf_tree.predict_proba(trater.x_test),multi_class='ovr')"
   ]
  },
  {
   "cell_type": "code",
   "execution_count": 30,
   "metadata": {
    "slideshow": {
     "slide_type": "fragment"
    }
   },
   "outputs": [
    {
     "name": "stdout",
     "output_type": "stream",
     "text": [
      "Random Forest Classifier\n",
      "\n"
     ]
    },
    {
     "data": {
      "text/plain": [
       "0.9765204010262258"
      ]
     },
     "execution_count": 30,
     "metadata": {},
     "output_type": "execute_result"
    }
   ],
   "source": [
    "print(\"Random Forest Classifier\\n\")\n",
    "roc_auc_score(frater.y_test,clf_forest.predict_proba(frater.x_test),multi_class='ovr')"
   ]
  },
  {
   "cell_type": "markdown",
   "metadata": {
    "pycharm": {
     "name": "#%% md\n"
    },
    "slideshow": {
     "slide_type": "slide"
    }
   },
   "source": [
    "### Demo\n",
    "Nun kann dieser RatingPredictor auch Bewertungen von Filmen vorhersagen. Dazu können wir uns anschauen, welche Möglichkeiten wir haben, einen Film zu erstellen."
   ]
  },
  {
   "cell_type": "code",
   "execution_count": 31,
   "metadata": {
    "jupyter": {
     "outputs_hidden": false
    },
    "pycharm": {
     "name": "#%%\n"
    },
    "slideshow": {
     "slide_type": "subslide"
    }
   },
   "outputs": [
    {
     "data": {
      "text/plain": [
       "['actor',\n",
       " 'actress',\n",
       " 'director',\n",
       " 'writer',\n",
       " 'composer',\n",
       " 'producer',\n",
       " 'cinematographer',\n",
       " 'editor',\n",
       " 'self',\n",
       " 'production_designer',\n",
       " 'archive_footage']"
      ]
     },
     "execution_count": 31,
     "metadata": {},
     "output_type": "execute_result"
    }
   ],
   "source": [
    "frater.getAllRoles()"
   ]
  },
  {
   "cell_type": "markdown",
   "metadata": {
    "pycharm": {
     "name": "#%% md\n"
    },
    "slideshow": {
     "slide_type": "fragment"
    }
   },
   "source": [
    "Dies sind alle Rollen, die ein Schauspieler/Crew haben kann. Diese müssen auch genau so geschrieben werden, damit sie erkannt werden."
   ]
  },
  {
   "cell_type": "code",
   "execution_count": 32,
   "metadata": {
    "jupyter": {
     "outputs_hidden": false
    },
    "pycharm": {
     "name": "#%%\n"
    },
    "slideshow": {
     "slide_type": "subslide"
    }
   },
   "outputs": [
    {
     "data": {
      "text/plain": [
       "['Fantasy',\n",
       " 'Horror',\n",
       " 'Mystery',\n",
       " 'Comedy',\n",
       " 'Drama',\n",
       " 'Family',\n",
       " 'Adventure',\n",
       " 'Sci-Fi',\n",
       " 'Action',\n",
       " 'War',\n",
       " 'Romance',\n",
       " 'Crime',\n",
       " 'Thriller',\n",
       " 'Musical',\n",
       " 'Animation',\n",
       " 'History',\n",
       " 'Film-Noir',\n",
       " 'Western',\n",
       " 'Music',\n",
       " 'Biography',\n",
       " 'Sport',\n",
       " 'Documentary',\n",
       " 'News']"
      ]
     },
     "execution_count": 32,
     "metadata": {},
     "output_type": "execute_result"
    }
   ],
   "source": [
    "frater.getAllGenres()"
   ]
  },
  {
   "cell_type": "markdown",
   "metadata": {
    "pycharm": {
     "name": "#%% md\n"
    },
    "slideshow": {
     "slide_type": "fragment"
    }
   },
   "source": [
    "Dies sind alle Genres, die ein Film haben kann. Ein Film kann bis zu drei Genres haben, braucht jedoch nur eins."
   ]
  },
  {
   "cell_type": "markdown",
   "metadata": {
    "slideshow": {
     "slide_type": "subslide"
    }
   },
   "source": [
    "Ein Film kann nach dem Schema (Titel(String), Veröffentlichungsjahr(int), Laufzeit(int), Genre1(String), Genre2(String), Genre3(String), Anzahl der Bewertungen(int)) erzeugt werden. Anschließend können schauspieler mit der Funktion addCrewByName hinzugefügt werden, mit dem Schema (Name(String), Rolle(String))"
   ]
  },
  {
   "cell_type": "code",
   "execution_count": 33,
   "metadata": {
    "jupyter": {
     "outputs_hidden": false
    },
    "pycharm": {
     "name": "#%%\n"
    },
    "slideshow": {
     "slide_type": "fragment"
    }
   },
   "outputs": [
    {
     "data": {
      "text/plain": [
       "\"Mein neuer Film (2000) Länge: 120min Genres: ['Action', 'Crime', 'War'] Bewertung: 0 mit 100000 Bewertungen. Mit ['Johnny Depp', 'Christian Bale', 'Michael Bay', 'John Williams', 'Christopher Nolan', 'Marlon Brando', 'Ryan Reynolds']\""
      ]
     },
     "execution_count": 33,
     "metadata": {},
     "output_type": "execute_result"
    }
   ],
   "source": [
    "newMovie = main.createMovie(\"Mein neuer Film\",2000,120,\"Action\",\"Crime\",\"War\",100000)\n",
    "newMovie.addCrewByName(\"Johnny Depp\", \"actor\")\n",
    "newMovie.addCrewByName(\"Christian Bale\", \"actor\")\n",
    "newMovie.addCrewByName(\"Michael Bay\",\"director\")\n",
    "newMovie.addCrewByName(\"John Williams\", \"composer\")\n",
    "newMovie.addCrewByName(\"Christopher Nolan\", \"director\")\n",
    "newMovie.addCrewByName(\"Marlon Brando\",\"actor\")\n",
    "newMovie.addCrewByName(\"Ryan Reynolds\",\"actor\")\n",
    "newMovie.getAsString()"
   ]
  },
  {
   "cell_type": "markdown",
   "metadata": {
    "slideshow": {
     "slide_type": "subslide"
    }
   },
   "source": [
    "Nun kann der RatingPredictor das Rating vorhersagen"
   ]
  },
  {
   "cell_type": "code",
   "execution_count": 34,
   "metadata": {
    "jupyter": {
     "outputs_hidden": false
    },
    "pycharm": {
     "name": "#%%\n"
    },
    "slideshow": {
     "slide_type": "fragment"
    }
   },
   "outputs": [
    {
     "name": "stdout",
     "output_type": "stream",
     "text": [
      "Converting data...\n",
      "100.0% \t Time elapsed: 0:00:00.002s\n",
      "Data converted.\n"
     ]
    },
    {
     "data": {
      "text/plain": [
       "array([7])"
      ]
     },
     "execution_count": 34,
     "metadata": {},
     "output_type": "execute_result"
    }
   ],
   "source": [
    "frater.predictMovie(newMovie)"
   ]
  },
  {
   "cell_type": "code",
   "execution_count": 35,
   "metadata": {
    "slideshow": {
     "slide_type": "skip"
    }
   },
   "outputs": [
    {
     "data": {
      "image/png": "[encoded data removed]",
      "text/plain": [
       "<Figure size 432x288 with 16 Axes>"
      ]
     },
     "metadata": {},
     "output_type": "display_data"
    }
   ],
   "source": [
    "fig, axes = plt.subplots(1, 16)\n",
    "# use global min / max to ensure all weights are shown on the same scale\n",
    "vmin, vmax = clf_neural.coefs_[0].min(), clf_neural.coefs_[0].max()\n",
    "for coef, ax in zip(clf_neural.coefs_[0].T, axes.ravel()):\n",
    "    ax.matshow(coef.reshape(157,1), cmap='Blues', vmin=.5 * vmin,\n",
    "               vmax=.5 * vmax)\n",
    "    ax.set_xticks(())\n",
    "    ax.set_yticks(())\n",
    "\n",
    "plt.show()"
   ]
  },
  {
   "cell_type": "markdown",
   "metadata": {
    "slideshow": {
     "slide_type": "slide"
    }
   },
   "source": [
    "# Fazit\n",
    "\n",
    "Wir können mit einer Wahrscheinlichkeit von etwa 80% die Bewertung eines Filmes voraussagen. Dieser Score ist nicht so hoch wie andere Machine Learning Projekte, was dafür spricht, dass ein Film auch an anderen Merkmalen, wie dem Inhalt, der Story (alle Attribute, welche wir nicht überprüfen können) bewertet wird. Jedoch kann schon von äußerlichen Merkmalen die Bewertung teilweise vorhergesagt werden.\n",
    "\n",
    "Besonders bei sehr \"schlechten\" oder sehr \"guten\" Filmen hat der Algorithmus schwierigkeiten, da hier so wenig Trainingsdaten verfügbar waren. Der Datensatz war deshalb nicht besonders divers, da die meisten Filme eine Bewertung zwischen 6 und 8 hatten und nur sehr wenige außerhalb lagen. Wenn man hier mehr Daten bekommen könnte, würden wir erwarten, dass der Algorithmus auch diese Bewertungen besser vorhersagt.\n",
    "\n",
    "Bei manuellen Test konnte herausgefunden werden, welche Attribute welchen Einfluss auf die Bewertung haben:\n",
    "* Filmnamelänge: Kurz eher schelchter, länger eher besser\n",
    "* Jahr: Kaum Auswirkung, außer im Extrembereich\n",
    "* Filmlänge: Kaum Auswirkung\n",
    "* Anzahl der Bewertungen: Je mehr, desto besser\n"
   ]
  },
  {
   "cell_type": "markdown",
   "metadata": {
    "slideshow": {
     "slide_type": "slide"
    }
   },
   "source": [
    "# Vielen Dank"
   ]
  }
 ],
 "metadata": {
  "celltoolbar": "Slideshow",
  "kernelspec": {
   "display_name": "Python 3",
   "language": "python",
   "name": "python3"
  },
  "language_info": {
   "codemirror_mode": {
    "name": "ipython",
    "version": 3
   },
   "file_extension": ".py",
   "mimetype": "text/x-python",
   "name": "python",
   "nbconvert_exporter": "python",
   "pygments_lexer": "ipython3",
   "version": "3.8.5"
  }
 },
 "nbformat": 4,
 "nbformat_minor": 4
}