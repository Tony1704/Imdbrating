{
 "cells": [
  {
   "cell_type": "markdown",
   "metadata": {},
   "source": [
    "# IMDb Rating Predicition\n"
   ]
  },
  {
   "cell_type": "markdown",
   "metadata": {},
   "source": [
    "## Inhaltsverzeichnis\n",
    "### 1. Unsere Idee\n",
    "### 2. Die IMDb Datenbank\n",
    "### 3. Auswahl der Daten\n",
    "### 4. Formatierung der Daten\n",
    "### 5. Ergebnisse\n",
    "### 6. Fazit"
   ]
  },
  {
   "cell_type": "markdown",
   "metadata": {},
   "source": [
    "## Unsere Idee\n",
    "Filme sind in der heutigen Zeit aus der Unterhaltungsbranche nicht wegzudenken. Mittlerweile werden durch verschiedene Streaminganbieter eine große Auswahl an Filmen angeboten, die jederzeit geschaut werden können. Einige von den Filmen werden von der Allgemeinheit besser bewertet als andere. Doch woran liegt es, dass einige Filme eine bessere Bewertung von den Zuschauern bekommen? Wir sind ebenfalls große Filmliebhaber. Deswegen haben wir uns gefragt, ob möglicherweise einige Faktoren wie zum Beispiel der Regisseur oder der Schauspieler einen Hinweis darauf liefern können, wie gut ein Film voraussichtlich von der Allgemeinheit bewertet wird.\n",
    "\n",
    "Deswegen wollen wir mit diesem Projekt herausfinden, ob eine Korrelation zwischen den verschiedenen Daten eines Filmes und der durchschnittlichen Bewertung dessen vorliegt. Falls eine Korrelation besteht, könnte beispielsweise durch die Angabe der Schauspieler, die im Film mit spielen, die durchschnittliche Bewertung des Films hervorgesagt werden. Dadurch wäre es in Zukunft unter anderem möglich zu schauen, welche Schauspieler zusammen einen voraussichtlich guten Film und welche einen eher nicht so gut bewerteten Film drehen würden. Hierbei ist es wichtig herauszufinden, ob und welche Filmdaten überhaupt einen Einfluss auf die Bewertung haben. Außerdem ist die Auswahl eines guten Datensets wichtig, um die Idee mit Hilfe von Machine Learning umsetzen zu können."
   ]
  },
  {
   "cell_type": "markdown",
   "metadata": {},
   "source": [
    "## Die IMDb Datenbank\n",
    "Bei der Auswahl des Datensets wurde sich für die IMDb (Internet Movie Database) Datenbank entschieden, da diese die größte öffentlich zugängliche Filmdatenbank ist. In dieser Datenbank können verschiedene Daten zu den Filmen sowie den Personen, die am Film mitgewirkt haben, gefunden werden.\n",
    "Ein ausgewählter Teil der IMDb Datenbank kann beispielsweise auf Kaggle gefunden werden.\n",
    "Es handelt sich dabei um eine relationale Datenbank, welche folgende Tabellen enthält:\n"
   ]
  },
  {
   "cell_type": "code",
   "execution_count": 1,
   "metadata": {
    "collapsed": false,
    "jupyter": {
     "outputs_hidden": false
    },
    "pycharm": {
     "name": "#%%\n"
    }
   },
   "outputs": [
    {
     "name": "stdout",
     "output_type": "stream",
     "text": [
      "Spalten der Tabelle most_rated_movies:\n",
      "primaryTitle: VAR_STRING \n",
      "numVotes: LONG NUMERIC\n",
      "\n",
      "\n",
      "Spalten der Tabelle person:\n",
      "nconst: STRING NOT_NULL | PRIMARY_KEY | NO_DEFAULT\n",
      "primaryName: VAR_STRING \n",
      "birthYear: LONG NUMERIC\n",
      "deathYear: LONG NUMERIC\n",
      "primaryProfession: VAR_STRING \n",
      "knownForTitles: VAR_STRING \n",
      "averageRating: DOUBLE NUMERIC\n",
      "\n",
      "\n",
      "Spalten der Tabelle titleakas:\n",
      "titleId: STRING NOT_NULL | NO_DEFAULT\n",
      "ordering: LONG NOT_NULL | NUMERIC\n",
      "title: VAR_STRING \n",
      "region: STRING \n",
      "language: STRING \n",
      "types: VAR_STRING \n",
      "attributes: VAR_STRING \n",
      "isOriginalTitle: LONG NUMERIC\n",
      "\n",
      "\n",
      "Spalten der Tabelle titlebasic:\n",
      "tconst: STRING NOT_NULL | PRIMARY_KEY | NO_DEFAULT\n",
      "titleType: VAR_STRING \n",
      "primaryTitle: VAR_STRING \n",
      "originalTitle: VAR_STRING \n",
      "isAdult: LONG NUMERIC\n",
      "startYear: LONG NUMERIC\n",
      "endYear: LONG NUMERIC\n",
      "runtimeMinutes: LONG NUMERIC\n",
      "genres: VAR_STRING \n",
      "\n",
      "\n",
      "Spalten der Tabelle titleprincipals:\n",
      "tconst: STRING NOT_NULL | PRIMARY_KEY | NO_DEFAULT\n",
      "ordering: LONG NUMERIC\n",
      "nconst: STRING NOT_NULL | PRIMARY_KEY | NO_DEFAULT\n",
      "category: VAR_STRING \n",
      "job: VAR_STRING \n",
      "characters: VAR_STRING \n",
      "\n",
      "\n",
      "Spalten der Tabelle titleratings:\n",
      "tconst: STRING NOT_NULL | PRIMARY_KEY | NO_DEFAULT\n",
      "averageRating: DOUBLE NUMERIC\n",
      "numVotes: LONG NUMERIC\n",
      "\n",
      "\n",
      "Spalten der Tabelle top_rated_movies:\n",
      "primaryTitle: VAR_STRING \n",
      "startYear: LONG NUMERIC\n",
      "averageRating: DOUBLE NUMERIC\n",
      "numVotes: LONG NUMERIC\n",
      "\n",
      "\n",
      "Spalten der Tabelle valid_movies:\n",
      "tconst: STRING NOT_NULL | PRIMARY_KEY | NO_DEFAULT\n",
      "primaryTitle: VAR_STRING \n",
      "startYear: LONG NUMERIC\n",
      "runtimeMinutes: LONG NUMERIC\n",
      "genres: VAR_STRING \n",
      "averageRating: DOUBLE NUMERIC\n",
      "numVotes: LONG NUMERIC\n",
      "\n",
      "\n"
     ]
    }
   ],
   "source": [
    "%load_ext autoreload\n",
    "%reload_ext autoreload\n",
    "%matplotlib inline\n",
    "import database_connector\n",
    "import main\n",
    "db = database_connector.DataBase()\n",
    "tables = db.show_tables()\n",
    "\n",
    "for table in tables:\n",
    "    field_info_text = db.get_table_field_info(table)\n",
    "\n",
    "    print(f\"Spalten der Tabelle {table}:\")\n",
    "    print(\"\\n\".join(field_info_text))\n",
    "    print(\"\\n\")\n"
   ]
  },
  {
   "cell_type": "markdown",
   "metadata": {},
   "source": [
    "Viele Einträge sind allerdings fehlerhaft oder unvollständig, weswegen es wichtig ist, diese zu filtern und nur die relevanten Daten zu verwenden."
   ]
  },
  {
   "cell_type": "markdown",
   "metadata": {},
   "source": [
    "Die Tabelle Titlebasic beinhaltet alle Titel und ist 5 Millionen Einträge groß:"
   ]
  },
  {
   "cell_type": "code",
   "execution_count": 2,
   "metadata": {
    "collapsed": false,
    "jupyter": {
     "outputs_hidden": false
    },
    "pycharm": {
     "name": "#%%\n"
    }
   },
   "outputs": [
    {
     "data": {
      "text/plain": [
       "(5701079,)"
      ]
     },
     "execution_count": 2,
     "metadata": {},
     "output_type": "execute_result"
    }
   ],
   "source": [
    "db.sql(\"SELECT COUNT(*) FROM titlebasic\")[0]"
   ]
  },
  {
   "cell_type": "markdown",
   "metadata": {},
   "source": [
    "Die IMDb Datenbank enthält allerdings nicht nur Daten zu Filmen, sondern auch zu Serien. Deswegen müssen die 5 Millionen Einträge nach dem Typ Film gefiltert werden. Dadurch kommen wir auf ungefähr 500.000 Einträge:"
   ]
  },
  {
   "cell_type": "code",
   "execution_count": 3,
   "metadata": {
    "collapsed": false,
    "jupyter": {
     "outputs_hidden": false
    },
    "pycharm": {
     "name": "#%%\n"
    }
   },
   "outputs": [
    {
     "data": {
      "text/plain": [
       "(509332,)"
      ]
     },
     "execution_count": 3,
     "metadata": {},
     "output_type": "execute_result"
    }
   ],
   "source": [
    "db.sql(\"SELECT COUNT(*) FROM titlebasic WHERE titleType = 'Movie'\")[0]"
   ]
  },
  {
   "cell_type": "markdown",
   "metadata": {
    "pycharm": {
     "name": "#%% md\n"
    }
   },
   "source": [
    "Unter diesen 500.000 Filmen sind einige, die keine Bewertung haben. Diese müssen ebenfalls herausgefiltert werden, wodurch 200.000 Einträge übrig bleiben:\n"
   ]
  },
  {
   "cell_type": "code",
   "execution_count": 4,
   "metadata": {
    "collapsed": false,
    "jupyter": {
     "outputs_hidden": false
    },
    "pycharm": {
     "name": "#%%\n"
    }
   },
   "outputs": [
    {
     "data": {
      "text/plain": [
       "(237738,)"
      ]
     },
     "execution_count": 4,
     "metadata": {},
     "output_type": "execute_result"
    }
   ],
   "source": [
    "db.sql(\"SELECT COUNT(*) FROM titlebasic inner join titleratings on titleratings.tconst = titlebasic.tconst where titleType = 'Movie'\")[0]"
   ]
  },
  {
   "cell_type": "markdown",
   "metadata": {},
   "source": [
    "Davon haben nur 3000 Einträge mehr als 50000 Bewertungen, ein Wert bei welchem wir festgestellt haben, dass die Bewertungen eine ausreichende Aussagekraft besitzen."
   ]
  },
  {
   "cell_type": "code",
   "execution_count": 5,
   "metadata": {
    "collapsed": false,
    "jupyter": {
     "outputs_hidden": false
    },
    "pycharm": {
     "name": "#%%\n"
    }
   },
   "outputs": [
    {
     "data": {
      "text/plain": [
       "(3023,)"
      ]
     },
     "execution_count": 5,
     "metadata": {},
     "output_type": "execute_result"
    }
   ],
   "source": [
    "db.sql(\"SELECT COUNT(*) FROM titlebasic inner join titleratings on titleratings.tconst = titlebasic.tconst where titleType = 'Movie' AND titleratings.numVotes > 50000\")[0]\n"
   ]
  },
  {
   "cell_type": "markdown",
   "metadata": {},
   "source": [
    "Das sind die Filme, die in der view \"Valid_Movies\" dargestellt werden."
   ]
  },
  {
   "cell_type": "code",
   "execution_count": 6,
   "metadata": {
    "collapsed": false,
    "jupyter": {
     "outputs_hidden": false
    },
    "pycharm": {
     "name": "#%%\n"
    }
   },
   "outputs": [
    {
     "data": {
      "text/plain": [
       "[('The Pancake Ghost', 2021, 0, 'Musical'),\n",
       " ('Mayday', 2020, 0, 'Drama'),\n",
       " ('The Lion King', 2019, 118, 'Adventure,Animation,Drama'),\n",
       " ('Fast & Furious Presents: Hobbs & Shaw', 2019, 137, 'Action,Adventure'),\n",
       " ('Rocketman', 2019, 121, 'Biography,Drama,Music'),\n",
       " ('Men in Black: International', 2019, 114, 'Action,Adventure,Comedy'),\n",
       " ('Alita: Battle Angel', 2019, 122, 'Action,Adventure,Sci-Fi'),\n",
       " ('Murder Mystery', 2019, 97, 'Action,Comedy,Crime')]"
      ]
     },
     "execution_count": 6,
     "metadata": {},
     "output_type": "execute_result"
    }
   ],
   "source": [
    "db.sql(\"SELECT primaryTitle, startYear, runtimeMinutes, genres FROM imdb.valid_movies order by startYear DESC limit 8\")"
   ]
  },
  {
   "cell_type": "markdown",
   "metadata": {},
   "source": [
    "Wenn die View \"Valid_Movies\" nach der Bewertung sortiert wird fällt auf, dass die Liste der best bewertesten Filme auf der IMDb Website dieser ähnelt, weswegen davon ausgegangen werden kann, dass die IMDb ähnliche Filter anwendet."
   ]
  },
  {
   "cell_type": "code",
   "execution_count": 7,
   "metadata": {
    "collapsed": false,
    "jupyter": {
     "outputs_hidden": false
    },
    "pycharm": {
     "name": "#%%\n"
    }
   },
   "outputs": [
    {
     "data": {
      "text/plain": [
       "[('The Shawshank Redemption', 1994, 9.3, 2159745),\n",
       " ('The Godfather', 1972, 9.2, 1482225),\n",
       " ('The Godfather: Part II', 1974, 9.0, 1032110),\n",
       " ('The Dark Knight', 2008, 9.0, 2134602),\n",
       " ('The Mountain II', 2016, 9.0, 101817),\n",
       " ('12 Angry Men', 1957, 8.9, 617607),\n",
       " (\"Schindler's List\", 1993, 8.9, 1120297),\n",
       " ('Pulp Fiction', 1994, 8.9, 1695159),\n",
       " ('The Lord of the Rings: The Return of the King', 2003, 8.9, 1533632),\n",
       " ('The Good, the Bad and the Ugly', 1966, 8.8, 640941),\n",
       " ('Forrest Gump', 1994, 8.8, 1662609),\n",
       " ('The Lord of the Rings: The Fellowship of the Ring', 2001, 8.8, 1548920),\n",
       " ('Fight Club', 1999, 8.8, 1725444),\n",
       " ('Inception', 2010, 8.8, 1892958),\n",
       " ('Joker', 2019, 8.8, 466912),\n",
       " (\"One Flew Over the Cuckoo's Nest\", 1975, 8.7, 852798),\n",
       " ('Star Wars: Episode V - The Empire Strikes Back', 1980, 8.7, 1078754),\n",
       " ('Goodfellas', 1990, 8.7, 933687),\n",
       " ('The Matrix', 1999, 8.7, 1554345),\n",
       " ('The Lord of the Rings: The Two Towers', 2002, 8.7, 1387208),\n",
       " (\"It's a Wonderful Life\", 1946, 8.6, 366750),\n",
       " ('Seven Samurai', 1954, 8.6, 292241),\n",
       " ('Star Wars: Episode IV - A New Hope', 1977, 8.6, 1147264),\n",
       " ('The Silence of the Lambs', 1991, 8.6, 1169847),\n",
       " ('Se7en', 1995, 8.6, 1327441),\n",
       " ('Life Is Beautiful', 1997, 8.6, 570765),\n",
       " ('The Green Mile', 1999, 8.6, 1050158),\n",
       " ('Saving Private Ryan', 1998, 8.6, 1143793),\n",
       " ('Spirited Away', 2001, 8.6, 577038),\n",
       " ('City of God', 2002, 8.6, 659285),\n",
       " ('Interstellar', 2014, 8.6, 1348184),\n",
       " ('Senna', 2010, 8.6, 56850),\n",
       " ('Parasite', 2019, 8.6, 73962),\n",
       " ('City Lights', 1931, 8.5, 152730),\n",
       " ('Modern Times', 1936, 8.5, 197987),\n",
       " ('The Great Dictator', 1940, 8.5, 186657),\n",
       " ('Casablanca', 1942, 8.5, 487781),\n",
       " ('Psycho', 1960, 8.5, 555275),\n",
       " ('Once Upon a Time in the West', 1968, 8.5, 279260),\n",
       " ('Back to the Future', 1985, 8.5, 965539)]"
      ]
     },
     "execution_count": 7,
     "metadata": {},
     "output_type": "execute_result"
    }
   ],
   "source": [
    "db.get_top_rated_movies()"
   ]
  },
  {
   "cell_type": "markdown",
   "metadata": {},
   "source": [
    "## Auswahl der Daten\n",
    "Da wir nun die Auswahl der Datensätze getroffen haben, geht es nun darum, Attribute auszuwählen, die für das neurale Netzwerk genutzt werden können"
   ]
  },
  {
   "cell_type": "code",
   "execution_count": 8,
   "metadata": {
    "collapsed": false,
    "jupyter": {
     "outputs_hidden": false
    },
    "pycharm": {
     "name": "#%%\n"
    }
   },
   "outputs": [
    {
     "name": "stdout",
     "output_type": "stream",
     "text": [
      "Loading Database...\n",
      "100.0% \t Time elapsed: 0:00:01.678s\n",
      "Database loaded.\n",
      "ID\t\ttt1375666\n",
      "Titel\t\tInception\n",
      "Jahr\t\t2010\n",
      "Laufzeit\t148\n",
      "Genres\t\t['Action', 'Adventure', 'Sci-Fi']\n",
      "Average Rating\t8.8\n",
      "Number of Votes\t1892958\n"
     ]
    }
   ],
   "source": [
    "movies = main.loadDataBase()\n",
    "inception = movies[2213]\n",
    "print(f\"ID\\t\\t{inception.id}\\nTitel\\t\\t{inception.title}\\nJahr\\t\\t{inception.startYear}\\nLaufzeit\\t{inception.runtimeMinutes}\\nGenres\\t\\t{inception.genres}\\nAverage Rating\\t{inception.averageRating}\\nNumber of Votes\\t{inception.numVotes}\")"
   ]
  },
  {
   "cell_type": "markdown",
   "metadata": {},
   "source": [
    "Diese Daten bestimmen das Movie Objekt. Die meisten dieser Daten werden auch dem neuralen Netzwerk mitgegeben, einige dienen nur zur Information. Einem Movie gehören bis zu 10 \"Mitarbeitern\" an. Dazu zählen Schauspieler, Regisseure, Producer, Komponisten, etc."
   ]
  },
  {
   "cell_type": "code",
   "execution_count": 9,
   "metadata": {
    "collapsed": false,
    "jupyter": {
     "outputs_hidden": false
    },
    "pycharm": {
     "name": "#%%\n"
    }
   },
   "outputs": [
    {
     "name": "stdout",
     "output_type": "stream",
     "text": [
      "Name                         Nummer              Rolle  \n",
      "Leonardo DiCaprio            1                   actor\n",
      "Joseph Gordon-Levitt         2                   actor\n",
      "Ellen Page                   3                 actress\n",
      "Ken Watanabe                 4                   actor\n",
      "Christopher Nolan            5                director\n",
      "Emma Thomas                  6                producer\n",
      "Hans Zimmer                  7                composer\n",
      "Wally Pfister                8         cinematographer\n",
      "Lee Smith                    9                  editor\n",
      "Guy Hendrix Dyas             10    production_designer\n"
     ]
    }
   ],
   "source": [
    "crew = inception.actors\n",
    "print(\"%-28s %-4s %20s\" % (\"Name\", \"Nummer\", \"Rolle  \"))\n",
    "for person in crew:\n",
    "    print (\"%-28s %-4s %20s\" % (person.getName(),person.ordering,person.category))"
   ]
  },
  {
   "cell_type": "markdown",
   "metadata": {},
   "source": [
    "Name ist dabei eigentlich \"ID\", hier aber zur besseren Lesbarkeit als Name dargestellt. <br>\n",
    "Von den kombinierten Tabellen \"person\" und \"titleprincipals\" sind dies die daten, die sinnvoll sind. <br>\n",
    "Nun ist die Frage, welche der Attribute von Movie und Actor für die Ermittlung des Scores wichtig sind. <br>\n",
    "\n",
    "Da stellt sich die Frage, welcher dieser Attribute den Score beeinflussen.<br>\n",
    "Zunächst wurden dabei die Attribute `title`,`startYear`,`runtime`, `genre` und `actor` geeinigt, wobei bei actor die attribute `nconst` (id), `ordering` (nummer) und `category` (Rolle) beinhaltet. Diese Attribute unterscheiden einen Film, können jedoch auch gleichzeitig in mehreren Filmen gleich sein, was eine voraussetzung für das lernen ist. Je mehr gleiche Attribute, desto einfacher kann das neurale Netzwerk lernen.\n",
    "Attribute wie die ID eines Films machen keinen Sinn, da sich diese niemals im Datensatz wiederholen, beim Titel wird deshalb nur die Länge des Titels und nicht der eigentliche Titel verwendet."
   ]
  },
  {
   "cell_type": "markdown",
   "metadata": {},
   "source": [
    "## Formatierung der Daten\n",
    "Nachdem die Daten aus der Datenbank in das Python Programm geladen wurden, liegen sie als Objekte im Speicher. Da die ausgesuchten Algorithmen keine relationalen Objektdaten verarbeiten können, müssen diese in Vektoren eiener konstanten Dimension umformatiert werden. Die einschränkungen des IMDb Datensatzes kamen uns dabei entgegen. <br>\n",
    "Das größte Problem war dabei die umkonvertierung der kategorischen Daten zu numerischen Werten. Die Werte `startYear`, `runtime`, `numberOfVotes` und (Länge des) `title` waren schon numerisch, weshalb diese direkt in den Vektor aufgenommen werden können.\n",
    "\n"
   ]
  },
  {
   "cell_type": "markdown",
   "metadata": {},
   "source": [
    "## Ergebnisse\n",
    "\n",
    "Mit den oben genannten Attributen ein MLPClassifier von Scikit learn trainiert. Dieser versucht anhand von verschiedenen Attributen den Film in eine Klasse einzuordnen. Die Klassen sind dabei verschiedene Ratings, in ganze Zahlen konvertiert um die Vorhersagen etwas einfacher zu machen. Hier lagen anfangs die Test Scores bei etwa 50%.\n",
    "Jedoch wurde bei manuellen Tests klar, dass der Classifier sehr konservative Ratings vorhersagt, die in der Regel zwischen fünf und sieben Sternen lagen. Dadurch könnte der Test Score allein durch konservatives raten so hoch sein.\n",
    "\n",
    "Hier stellte sich die Frage, warum der Classifier so \"vorsichtig\" rät. Die Vermutung bestand, dass der Classifier <br>\n",
    "* nicht genügend Daten pro Film hat,\n",
    "* mit den Daten des Films nichts anfangen kann,\n",
    "* oder zwischen den Daten und dem Rating des Films kein Zusammenhang besteht.\n",
    "\n",
    "Um der ersten Vermutung nachzugehen wurde außerdem die Anzahl der Ratings als Attribut mitgegeben. Damit erhöhte sich der Test Score allerdings nur geringfügig.\n",
    "\n",
    "Um der zweiten Vermutung nachzugehen, könnte anstatt eines Schauspielers die durchschnittliche Bewertung aller Filme mitgegeben werden, an denen dieser partizipiert hat.\n",
    "Hiermit steigerte sich der Score auf etwa 75%. Auch wurde mit einem decision Tree anstatt einem neuralen Netzwerk getestet, hier gab es ähnliche Scores, wobei hier teils geringere Ladezeiten aufgetreten sind.\n",
    "Beim lernen kann deshalb entschieden werden, ob ein neurales Netzwerk genutzt werden soll oder ob der decision Tree genutzt werden soll."
   ]
  },
  {
   "cell_type": "markdown",
   "metadata": {},
   "source": [
    "### Der Predictor\n",
    "Zunächst werden alle Filme aus der Datenbank geladen."
   ]
  },
  {
   "cell_type": "code",
   "execution_count": 10,
   "metadata": {
    "collapsed": false,
    "jupyter": {
     "outputs_hidden": false
    },
    "pycharm": {
     "name": "#%%\n"
    }
   },
   "outputs": [
    {
     "name": "stdout",
     "output_type": "stream",
     "text": [
      "Loading Database...\n",
      "100.0% \t Time elapsed: 0:00:01.576s\n",
      "Database loaded.\n"
     ]
    }
   ],
   "source": [
    "import database_connector\n",
    "import ratingPredictor\n",
    "\n",
    "allMovies = main.loadDataBase()"
   ]
  },
  {
   "cell_type": "markdown",
   "metadata": {
    "pycharm": {
     "name": "#%% md\n"
    }
   },
   "source": [
    "Nun wird der Rating Predictor, also unser Decision Tree/Neurales Netwerk erzeugt und trainiert sich an den Daten allMovies."
   ]
  },
  {
   "cell_type": "code",
   "execution_count": 34,
   "metadata": {
    "collapsed": false,
    "jupyter": {
     "outputs_hidden": false
    },
    "pycharm": {
     "name": "#%%\n"
    }
   },
   "outputs": [
    {
     "name": "stdout",
     "output_type": "stream",
     "text": [
      "Converting data...\n",
      "100.0% \t Time elapsed: 0:00:09.081s\n",
      "Data converted.\n",
      "Training started...\n",
      "Training done.\n",
      "Test score is:\n",
      "0.7508269018743109\n"
     ]
    }
   ],
   "source": [
    "rater = ratingPredictor.ratingPredictor(allMovies)\n",
    "#rater.printallmovies()\n",
    "neuralnetwork = False\n",
    "clf = rater.learn(neuralnetwork) #Mit neural Network = True wird ein neurales Netzwerk genutzt anstatt der decision tree"
   ]
  },
  {
   "cell_type": "code",
   "execution_count": 42,
   "metadata": {},
   "outputs": [
    {
     "data": {
      "image/png": "[encoded data removed]",
      "text/plain": [
       "<Figure size 432x288 with 1 Axes>"
      ]
     },
     "metadata": {
      "needs_background": "light"
     },
     "output_type": "display_data"
    }
   ],
   "source": [
    "%matplotlib inline\n",
    "import matplotlib\n",
    "from matplotlib import pyplot as plt\n",
    "from sklearn import tree\n",
    "if neuralnetwork:\n",
    "    plt.plot(clf.loss_curve_)\n",
    "else:\n",
    "    tree.plot_tree(clf)"
   ]
  },
  {
   "cell_type": "code",
   "execution_count": 13,
   "metadata": {},
   "outputs": [
    {
     "data": {
      "text/plain": [
       "<BarContainer object of 9 artists>"
      ]
     },
     "execution_count": 13,
     "metadata": {},
     "output_type": "execute_result"
    },
    {
     "data": {
      "image/png": "[encoded data removed]",
      "text/plain": [
       "<Figure size 432x288 with 1 Axes>"
      ]
     },
     "metadata": {
      "needs_background": "light"
     },
     "output_type": "display_data"
    }
   ],
   "source": [
    "plt.ylabel('Anzahl der Filme')\n",
    "plt.xlabel('Bewertung der Filme')\n",
    "x = [1,2,3,4,5,6,7,8,9]\n",
    "plt.xticks(x)\n",
    "x, y = rater.plot_ratings()\n",
    "plt.bar(x,y)"
   ]
  },
  {
   "cell_type": "code",
   "execution_count": 14,
   "metadata": {},
   "outputs": [
    {
     "data": {
      "text/plain": [
       "Text(0.5, 1.0, 'Confusion Matrix')"
      ]
     },
     "execution_count": 14,
     "metadata": {},
     "output_type": "execute_result"
    },
    {
     "data": {
      "image/png": "[encoded data removed]",
      "text/plain": [
       "<Figure size 432x288 with 2 Axes>"
      ]
     },
     "metadata": {
      "needs_background": "light"
     },
     "output_type": "display_data"
    }
   ],
   "source": [
    "from sklearn.metrics import plot_roc_curve\n",
    "from sklearn.metrics import plot_confusion_matrix\n",
    "#disp = plot_roc_curve(clf, rater.x_test, rater.y_test)\n",
    "disp = plot_confusion_matrix(clf, rater.x_test, rater.y_test,\n",
    "                                 display_labels=[1,2,3,4,5,6,7,8,9],\n",
    "                                 cmap='Blues',\n",
    "                                 normalize='true',\n",
    "                                values_format='.0g')\n",
    "disp.ax_.set_title('Confusion Matrix')"
   ]
  },
  {
   "cell_type": "code",
   "execution_count": 15,
   "metadata": {},
   "outputs": [
    {
     "name": "stdout",
     "output_type": "stream",
     "text": [
      "              precision    recall  f1-score   support\n",
      "\n",
      "           1       0.00      0.00      0.00         2\n",
      "           2       0.00      0.00      0.00         3\n",
      "           3       0.00      0.00      0.00         1\n",
      "           4       0.00      0.00      0.00        13\n",
      "           5       0.63      0.43      0.51       109\n",
      "           6       0.64      0.77      0.70       298\n",
      "           7       0.74      0.80      0.77       370\n",
      "           8       0.83      0.56      0.67       110\n",
      "           9       0.00      0.00      0.00         1\n",
      "\n",
      "    accuracy                           0.70       907\n",
      "   macro avg       0.32      0.29      0.29       907\n",
      "weighted avg       0.69      0.70      0.69       907\n",
      "\n"
     ]
    }
   ],
   "source": [
    "from sklearn.metrics import classification_report\n",
    "y_pred, y_true = rater.predictAllTestValues()\n",
    "print(classification_report(y_true, y_pred, zero_division = 0))"
   ]
  },
  {
   "cell_type": "code",
   "execution_count": 16,
   "metadata": {},
   "outputs": [
    {
     "data": {
      "text/plain": [
       "0.8538657902135375"
      ]
     },
     "execution_count": 16,
     "metadata": {},
     "output_type": "execute_result"
    }
   ],
   "source": [
    "from sklearn.metrics import roc_auc_score\n",
    "roc_auc_score(rater.y_test,clf.predict_proba(rater.x_test),multi_class='ovr')"
   ]
  },
  {
   "cell_type": "markdown",
   "metadata": {
    "pycharm": {
     "name": "#%% md\n"
    }
   },
   "source": [
    "### DIY\n",
    "Nun kann dieser RatingPredictor auch Bewertungen von Filmen vorhersagen. Dazu können wir uns anschauen, welche Möglichkeiten wir haben, einen Film zu erstellen."
   ]
  },
  {
   "cell_type": "code",
   "execution_count": 17,
   "metadata": {
    "collapsed": false,
    "jupyter": {
     "outputs_hidden": false
    },
    "pycharm": {
     "name": "#%%\n"
    }
   },
   "outputs": [
    {
     "data": {
      "text/plain": [
       "['actor',\n",
       " 'actress',\n",
       " 'director',\n",
       " 'writer',\n",
       " 'composer',\n",
       " 'producer',\n",
       " 'cinematographer',\n",
       " 'editor',\n",
       " 'self',\n",
       " 'production_designer',\n",
       " 'archive_footage']"
      ]
     },
     "execution_count": 17,
     "metadata": {},
     "output_type": "execute_result"
    }
   ],
   "source": [
    "rater.getAllRoles()"
   ]
  },
  {
   "cell_type": "markdown",
   "metadata": {
    "pycharm": {
     "name": "#%% md\n"
    }
   },
   "source": [
    "Dies sind alle Rollen, die ein Schauspieler/Crew haben kann. Diese müssen auch genau so geschrieben werden, damit sie erkannt werden."
   ]
  },
  {
   "cell_type": "code",
   "execution_count": 18,
   "metadata": {
    "collapsed": false,
    "jupyter": {
     "outputs_hidden": false
    },
    "pycharm": {
     "name": "#%%\n"
    }
   },
   "outputs": [
    {
     "data": {
      "text/plain": [
       "['Fantasy',\n",
       " 'Horror',\n",
       " 'Mystery',\n",
       " 'Comedy',\n",
       " 'Drama',\n",
       " 'Family',\n",
       " 'Adventure',\n",
       " 'Sci-Fi',\n",
       " 'Action',\n",
       " 'War',\n",
       " 'Romance',\n",
       " 'Crime',\n",
       " 'Thriller',\n",
       " 'Musical',\n",
       " 'Animation',\n",
       " 'History',\n",
       " 'Film-Noir',\n",
       " 'Western',\n",
       " 'Music',\n",
       " 'Biography',\n",
       " 'Sport',\n",
       " 'Documentary',\n",
       " 'News']"
      ]
     },
     "execution_count": 18,
     "metadata": {},
     "output_type": "execute_result"
    }
   ],
   "source": [
    "rater.getAllGenres()"
   ]
  },
  {
   "cell_type": "markdown",
   "metadata": {
    "pycharm": {
     "name": "#%% md\n"
    }
   },
   "source": [
    "Dies sind alle Genres, die ein Film haben kann. Ein Film kann bis zu drei Genres haben, braucht jedoch nur eins.\n",
    "\n",
    "Ein Film kann nach dem Schema (Titel(String), Veröffentlichungsjahr(int), Laufzeit(int), Genre1(String), Genre2(String), Genre3(String), Anzahl der Bewertungen(int)) erzeugt werden. Anschließend können schauspieler mit der Funktion `addCrewByName` hinzugefügt werden, mit dem Schema (Name(String), Rolle(String))"
   ]
  },
  {
   "cell_type": "code",
   "execution_count": 19,
   "metadata": {
    "collapsed": false,
    "jupyter": {
     "outputs_hidden": false
    },
    "pycharm": {
     "name": "#%%\n"
    }
   },
   "outputs": [
    {
     "data": {
      "text/plain": [
       "\"Mein neuer Film (2000) Länge: 120min Genres: ['Action', 'Crime', 'War'] Bewertung: 0 mit 100000 Bewertungen. Mit ['Johnny Depp', 'Christian Bale', 'Michael Bay', 'John Williams']\""
      ]
     },
     "execution_count": 19,
     "metadata": {},
     "output_type": "execute_result"
    }
   ],
   "source": [
    "newMovie = main.createMovie(\"Mein neuer Film\",2000,120,\"Action\",\"Crime\",\"War\",100000)\n",
    "newMovie.addCrewByName(\"Johnny Depp\", \"actor\")\n",
    "newMovie.addCrewByName(\"Christian Bale\", \"actor\")\n",
    "newMovie.addCrewByName(\"Michael Bay\",\"director\")\n",
    "newMovie.addCrewByName(\"John Williams\", \"composer\")\n",
    "newMovie.getAsString()"
   ]
  },
  {
   "cell_type": "markdown",
   "metadata": {},
   "source": [
    "Nun kann der RatingPredictor das Rating vorhersagen"
   ]
  },
  {
   "cell_type": "code",
   "execution_count": 20,
   "metadata": {
    "collapsed": false,
    "jupyter": {
     "outputs_hidden": false
    },
    "pycharm": {
     "name": "#%%\n"
    }
   },
   "outputs": [
    {
     "name": "stdout",
     "output_type": "stream",
     "text": [
      "Converting data...\n",
      "100.0% \t Time elapsed: 0:00:00.002s\n",
      "Data converted.\n"
     ]
    },
    {
     "data": {
      "text/plain": [
       "array([6])"
      ]
     },
     "execution_count": 20,
     "metadata": {},
     "output_type": "execute_result"
    }
   ],
   "source": [
    "rater.predictMovie(newMovie)"
   ]
  },
  {
   "cell_type": "markdown",
   "metadata": {},
   "source": [
    "Fazit: Filmnamelänge: Kurz eher schlechter, länger eher besser\n",
    "       Jahr: Kaum auswirkungen, außer in extrembereichen\n",
    "       Fimlänge: Kaum auswirkungen\n",
    "       Anzahl der Bewertungen: Je mehr, desto besser\n",
    "       \n",
    "        "
   ]
  },
  {
   "cell_type": "code",
   "execution_count": 33,
   "metadata": {},
   "outputs": [
    {
     "data": {
      "image/png": "[encoded data removed]",
      "text/plain": [
       "<Figure size 432x288 with 16 Axes>"
      ]
     },
     "metadata": {},
     "output_type": "display_data"
    }
   ],
   "source": [
    "fig, axes = plt.subplots(1, 16)\n",
    "# use global min / max to ensure all weights are shown on the same scale\n",
    "vmin, vmax = clf.coefs_[0].min(), clf.coefs_[0].max()\n",
    "for coef, ax in zip(clf.coefs_[0].T, axes.ravel()):\n",
    "    ax.matshow(coef.reshape(157,1), cmap='Blues', vmin=.5 * vmin,\n",
    "               vmax=.5 * vmax)\n",
    "    ax.set_xticks(())\n",
    "    ax.set_yticks(())\n",
    "\n",
    "plt.show()"
   ]
  },
  {
   "cell_type": "code",
   "execution_count": null,
   "metadata": {},
   "outputs": [],
   "source": []
  }
 ],
 "metadata": {
  "kernelspec": {
   "display_name": "Python 3",
   "language": "python",
   "name": "python3"
  },
  "language_info": {
   "codemirror_mode": {
    "name": "ipython",
    "version": 3
   },
   "file_extension": ".py",
   "mimetype": "text/x-python",
   "name": "python",
   "nbconvert_exporter": "python",
   "pygments_lexer": "ipython3",
   "version": "3.8.5"
  }
 },
 "nbformat": 4,
 "nbformat_minor": 4
}
